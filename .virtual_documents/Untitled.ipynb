import pandas as pd


ruta="celulares_PySpark.csv"


df=pd.read_csv(ruta)
df


df2=df.sample(100)


df2


#df2.to_csv("celulares_sample.csv")



