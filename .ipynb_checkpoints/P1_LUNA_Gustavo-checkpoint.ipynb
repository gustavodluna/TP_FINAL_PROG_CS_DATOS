{
 "cells": [
  {
   "cell_type": "markdown",
   "id": "ccbb6a00-a696-44b7-82f0-448587c25fdf",
   "metadata": {},
   "source": [
    "### Importamos los modulos"
   ]
  },
  {
   "cell_type": "code",
   "execution_count": 1,
   "id": "9478ac4e-e416-4b1f-9fa6-dae567d72c8d",
   "metadata": {},
   "outputs": [],
   "source": [
    "from num2words import num2words # Importar el módulo num2words"
   ]
  },
  {
   "cell_type": "code",
   "execution_count": 2,
   "id": "5ab4f206-09cf-4e0d-b25a-cc09547f72d2",
   "metadata": {},
   "outputs": [],
   "source": [
    "separador=\"=\"*120"
   ]
  },
  {
   "cell_type": "code",
   "execution_count": 3,
   "id": "a677f3ed-3f53-4bc4-93fe-8ac1661c3431",
   "metadata": {},
   "outputs": [
    {
     "data": {
      "text/plain": [
       "'C:\\\\Users\\\\guti_\\\\anaconda3\\\\envs\\\\pyspark-env\\\\Lib\\\\site-packages\\\\pyspark'"
      ]
     },
     "execution_count": 3,
     "metadata": {},
     "output_type": "execute_result"
    }
   ],
   "source": [
    "import findspark # Este módulo proporciona una función para localizar la instalación de Spark en el sistema.\n",
    "findspark.init() # Inicializa el entorno de Spark.\n",
    "findspark.find() # Devuelve la ruta al directorio de Spark. "
   ]
  },
  {
   "cell_type": "code",
   "execution_count": 4,
   "id": "50b3076a-0702-4a5d-a682-8ca8418d7c2e",
   "metadata": {},
   "outputs": [],
   "source": [
    "from pyspark.context import SparkContext\n",
    "from pyspark.sql.session import SparkSession\n",
    "sc=SparkContext.getOrCreate()\n",
    "spark=SparkSession(sc)"
   ]
  },
  {
   "cell_type": "code",
   "execution_count": 5,
   "id": "ca0cafe0-4e92-4be7-832e-54c0d60f7963",
   "metadata": {},
   "outputs": [
    {
     "data": {
      "text/html": [
       "\n",
       "        <div>\n",
       "            <p><b>SparkContext</b></p>\n",
       "\n",
       "            <p><a href=\"http://host.docker.internal:4040\">Spark UI</a></p>\n",
       "\n",
       "            <dl>\n",
       "              <dt>Version</dt>\n",
       "                <dd><code>v3.4.1</code></dd>\n",
       "              <dt>Master</dt>\n",
       "                <dd><code>local[*]</code></dd>\n",
       "              <dt>AppName</dt>\n",
       "                <dd><code>pyspark-shell</code></dd>\n",
       "            </dl>\n",
       "        </div>\n",
       "        "
      ],
      "text/plain": [
       "<SparkContext master=local[*] appName=pyspark-shell>"
      ]
     },
     "execution_count": 5,
     "metadata": {},
     "output_type": "execute_result"
    }
   ],
   "source": [
    "sc"
   ]
  },
  {
   "cell_type": "markdown",
   "id": "d2d2dd27-2a83-495f-a252-b69af2616526",
   "metadata": {},
   "source": [
    "### Lectura csv"
   ]
  },
  {
   "cell_type": "code",
   "execution_count": 6,
   "id": "598e98ba-e6e9-4ca7-a134-095d926a0257",
   "metadata": {},
   "outputs": [],
   "source": [
    "location=\"smartphones - smartphones.csv\""
   ]
  },
  {
   "cell_type": "code",
   "execution_count": 7,
   "id": "00ea9fac-8c29-4f3a-9641-5a414af2a31f",
   "metadata": {},
   "outputs": [],
   "source": [
    "# CSV options\n",
    "file_type = \"csv\" # Tipo de archivo\n",
    "infer_schema = \"true\" # Esta opción indica si se debe intentar inferir automáticamente el esquema de los datos.\n",
    "first_row_is_header = \"true\" # Indica si la primera fila del archivo CSV contiene encabezados.\n",
    "delimiter = \",\" # Especifica el delimitador utilizado en el archivo CSV."
   ]
  },
  {
   "cell_type": "code",
   "execution_count": 8,
   "id": "2be6b5cd-004c-4bbc-8a47-4770f331c128",
   "metadata": {},
   "outputs": [],
   "source": [
    "from pyspark.sql.functions import col\n",
    "\n",
    "# Leer datos de un archivo CSV a un DataFrame\n",
    "# Las opciones aplicadas son para archivos CSV. Para otros tipos de archivos, estos serán ignorados.\n",
    "data_df = spark.read.format(file_type) \\\n",
    "  .option(\"inferSchema\", infer_schema) \\\n",
    "  .option(\"header\", first_row_is_header) \\\n",
    "  .option(\"sep\", delimiter) \\\n",
    "  .load(location)"
   ]
  },
  {
   "cell_type": "markdown",
   "id": "58b62975-a354-4e40-a649-3521c9cabc35",
   "metadata": {},
   "source": [
    "### Creamos funciones para optimizar el trabajo"
   ]
  },
  {
   "cell_type": "markdown",
   "id": "db386cb1-085e-4438-8d54-d6bfec1673cf",
   "metadata": {},
   "source": [
    "#### descripcion_df"
   ]
  },
  {
   "cell_type": "code",
   "execution_count": 9,
   "id": "920b34bb-2a01-44fa-9d8f-2e73b38898cd",
   "metadata": {},
   "outputs": [],
   "source": [
    "def descripcion_df(df):\n",
    "    print(separador)\n",
    "    registros=num2words(df.count(),lang='es')\n",
    "    columnas=num2words(len(df.columns),lang='es')\n",
    "    print(f\"Cantidad de registros: {df.count()} ({registros})\")\n",
    "    print(f\"Cantidad de columnas: {len(df.columns)} ({columnas})\")\n",
    "    print(separador)\n",
    "    print(\"Tipos de datos\\n\")\n",
    "    df.printSchema()\n",
    "    print(separador)\n",
    "    print(\"Recuento de nulos\\n\")  # Muestra el número de valores nulos en cada columna del DataFrame y su porcentaje\n",
    "    verificar_nulos(df)  # Análisis de nulos\n",
    "    print(separador)  # Imprime una línea separadora\n",
    "    # Cuenta las filas duplicadas basadas en todas las columnas\n",
    "    cantidad_duplicados = df.groupBy(df.columns).count().where(col(\"count\") > 1).count()\n",
    "    print(f\"Cantidad de filas duplicadas en el DataFrame: {cantidad_duplicados}.\")\n",
    "    print(separador)"
   ]
  },
  {
   "cell_type": "markdown",
   "id": "761bc59b-ca22-4aea-93c8-bf051b050cfe",
   "metadata": {},
   "source": [
    "#### renombrar_columnas"
   ]
  },
  {
   "cell_type": "code",
   "execution_count": 10,
   "id": "576712d4-dc98-44db-bbe9-4afe715afa1a",
   "metadata": {},
   "outputs": [],
   "source": [
    "def renombrar_columnas(df, diccionario):\n",
    "    # Iterar sobre el diccionario y renombrar las columnas\n",
    "    for antiguo_nombre, nuevo_nombre in diccionario.items():\n",
    "        df = df.withColumnRenamed(antiguo_nombre, nuevo_nombre)\n",
    "    return df"
   ]
  },
  {
   "cell_type": "markdown",
   "id": "2bc69176-6e90-4e0c-acc7-b78f7be79204",
   "metadata": {},
   "source": [
    "#### verificar_nulos"
   ]
  },
  {
   "cell_type": "code",
   "execution_count": 11,
   "id": "b418786c-2e7a-42e3-84d0-a0a536bdc8da",
   "metadata": {},
   "outputs": [],
   "source": [
    "def verificar_nulos(df):\n",
    "    from pyspark.sql.functions import col, sum\n",
    "    # Muestra la cantidad de valores nulos por cada columna en el DataFrame\n",
    "    print(\"Cantidad de valores nulos por columna: \")\n",
    "    df_nulos = df.select(*(sum(col(c).isNull().cast(\"int\")).alias(c) for c in df.columns)) # Crea un DataFrame con los valores nulos por columna\n",
    "    df_nulos.show(vertical=True) # Imprime el DataFrame en forma vertical"
   ]
  },
  {
   "cell_type": "markdown",
   "id": "179c0d56-1d29-4fd6-849e-e54b10fa4fe0",
   "metadata": {},
   "source": [
    "#### reemplazar_nulos"
   ]
  },
  {
   "cell_type": "code",
   "execution_count": 12,
   "id": "cc3d0f30-3e98-4a66-a8f6-67ac99a18126",
   "metadata": {},
   "outputs": [],
   "source": [
    "from pyspark.sql.functions import col\n",
    "\n",
    "def reemplazar_nulos(df, nombre_columna, valor_reemplazo):\n",
    "    # Reemplazar valores nulos en la columna especificada con el valor de reemplazo\n",
    "    df_ = df.fillna({nombre_columna: valor_reemplazo})\n",
    "    return df_"
   ]
  },
  {
   "cell_type": "markdown",
   "id": "ff7abd52-ea7c-41e0-8071-6cd9d24f106d",
   "metadata": {},
   "source": [
    "#### eliminar_nulos"
   ]
  },
  {
   "cell_type": "code",
   "execution_count": 13,
   "id": "ff791564-294b-47dd-bb01-a873d29a3c7e",
   "metadata": {},
   "outputs": [],
   "source": [
    "def eliminar_nulos(df):\n",
    "    # Eliminar filas con valores nulos\n",
    "    df_sin_nulos = df.dropna()\n",
    "    return df_sin_nulos"
   ]
  },
  {
   "cell_type": "markdown",
   "id": "749845c0-721e-429b-9603-592d175c26b3",
   "metadata": {},
   "source": [
    "#### eliminar_nulos_columnas"
   ]
  },
  {
   "cell_type": "code",
   "execution_count": 14,
   "id": "983ea8f3-8d3b-451f-999b-ec589305f59c",
   "metadata": {},
   "outputs": [],
   "source": [
    "def eliminar_nulos_columnas(df, columnas):\n",
    "    # Eliminar filas con valores nulos solo en las columnas especificadas\n",
    "    df_sin_nulos = df.dropna(subset=columnas)\n",
    "    return df_sin_nulos"
   ]
  },
  {
   "cell_type": "markdown",
   "id": "5358272e-6e97-48e3-830c-b406f5c38c52",
   "metadata": {},
   "source": [
    "#### eliminar_columna"
   ]
  },
  {
   "cell_type": "code",
   "execution_count": 15,
   "id": "aa45e665-fc3b-47f4-85d8-cc6966c1d6de",
   "metadata": {},
   "outputs": [],
   "source": [
    "def eliminar_columna(df,columna):\n",
    "    df_=df.drop(columna)\n",
    "    return df_"
   ]
  },
  {
   "cell_type": "markdown",
   "id": "0af1a55a-3ab5-43c5-89b8-b650d53488c6",
   "metadata": {},
   "source": [
    "#### eliminar_columnas"
   ]
  },
  {
   "cell_type": "code",
   "execution_count": 16,
   "id": "92dd3eb7-cc5a-4b71-a77f-29e50f58d0e4",
   "metadata": {},
   "outputs": [],
   "source": [
    "def eliminar_columnas(df,columnas):\n",
    "    df_= df.drop(*columnas)\n",
    "    return df_"
   ]
  },
  {
   "cell_type": "markdown",
   "id": "4ae24dcb-678c-4e79-8011-1f7ff4ac5cac",
   "metadata": {},
   "source": [
    "#### eliminar_valores_con_condicion"
   ]
  },
  {
   "cell_type": "code",
   "execution_count": 17,
   "id": "84d8b3a9-9e3e-4b0b-9756-574781a3bf39",
   "metadata": {},
   "outputs": [],
   "source": [
    "from pyspark.sql.functions import col\n",
    "\n",
    "def eliminar_valores_con_condicion(df, nombre_columna,condicion):\n",
    "    # Filtrar y eliminar filas que contengan la condicion en la columna especificada\n",
    "    df_ = df.filter(~col(nombre_columna).contains(condicion))\n",
    "    return df_"
   ]
  },
  {
   "cell_type": "markdown",
   "id": "c09edf09-245a-4ce7-a5cd-19920f77732d",
   "metadata": {},
   "source": [
    "#### valores_columna"
   ]
  },
  {
   "cell_type": "code",
   "execution_count": 18,
   "id": "96a33b4f-3388-4949-a321-6485ef6bf585",
   "metadata": {},
   "outputs": [],
   "source": [
    "from pyspark.sql.functions import col\n",
    "\n",
    "def valores_columna(df,nombre_columna):\n",
    "    serie=df.select(nombre_columna)\n",
    "    # Obtener el número de valores distintos\n",
    "    num_distinct_values = serie.distinct().count()\n",
    "    print(separador)\n",
    "    print(\"Número de valores distintos:\", num_distinct_values)\n",
    "    print(separador)\n",
    "    # Obtener los valores distintos\n",
    "    distinct_values = serie.distinct().collect()\n",
    "    print(\"Valores distintos:\", [row[0] for row in distinct_values])\n",
    "    print(separador)"
   ]
  },
  {
   "cell_type": "markdown",
   "id": "c2b8102f-438d-4d53-b665-ebbfdea1e73a",
   "metadata": {},
   "source": [
    "#### reemplazar_caracteres"
   ]
  },
  {
   "cell_type": "code",
   "execution_count": 19,
   "id": "046fab0a-d2d6-42ed-bf6a-9f741f767721",
   "metadata": {},
   "outputs": [],
   "source": [
    "from pyspark.sql.functions import regexp_replace, col\n",
    "from pyspark.sql.types import IntegerType\n",
    "\n",
    "def reemplazar_caracteres(df,columna,valor_inicial,valor_final):\n",
    "    df_ = df.withColumn(columna, regexp_replace(col(columna), valor_inicial, valor_final))\n",
    "    return df_"
   ]
  },
  {
   "cell_type": "markdown",
   "id": "123254d1-3bcf-4470-bca8-34df99be3d1b",
   "metadata": {},
   "source": [
    "#### reemplazar_si_contiene"
   ]
  },
  {
   "cell_type": "code",
   "execution_count": 20,
   "id": "2262bde1-04c2-4036-9f2e-9ce5b08f49a2",
   "metadata": {},
   "outputs": [],
   "source": [
    "from pyspark.sql.functions import when, col\n",
    "\n",
    "def reemplazar_si_contiene(df, nombre_columna, palabra, reemplazo):\n",
    "    # Reemplazar el contenido de la columna si contiene la palabra específica\n",
    "    df_ = df.withColumn(nombre_columna, \n",
    "                                   when(col(nombre_columna).contains(palabra), \n",
    "                                        reemplazo).otherwise(col(nombre_columna)))\n",
    "    return df_"
   ]
  },
  {
   "cell_type": "markdown",
   "id": "8ecbf4e6-a033-4e01-a7b6-c529c98333a9",
   "metadata": {},
   "source": [
    "#### reemplazar_caracteres_df"
   ]
  },
  {
   "cell_type": "code",
   "execution_count": 21,
   "id": "54118b32-3879-4785-bb39-91f78dab7166",
   "metadata": {},
   "outputs": [],
   "source": [
    "from pyspark.sql.functions import regexp_replace\n",
    "\n",
    "def reemplazar_caracteres_df(df,valor_original,valor_final):\n",
    "    for col_name in df.columns:\n",
    "        df_ = df.withColumn(col_name, regexp_replace(col(col_name), f\"r{valor_original}\", valor_final))\n",
    "    return df_"
   ]
  },
  {
   "cell_type": "markdown",
   "id": "8aa56da4-3119-4d87-a5cd-e4fe91709ba8",
   "metadata": {},
   "source": [
    "#### reemplazar_si_no_contiene"
   ]
  },
  {
   "cell_type": "code",
   "execution_count": 22,
   "id": "91cb9034-2895-408e-9747-c10fa69a1cbc",
   "metadata": {},
   "outputs": [],
   "source": [
    "from pyspark.sql.functions import when, col\n",
    "\n",
    "def reemplazar_si_no_contiene(df, nombre_columna,palabra):\n",
    "    # Reemplazar el contenido de la columna si no contiene la palabra\n",
    "    df_ = df.withColumn(nombre_columna, \n",
    "                                   when(col(nombre_columna).contains(palabra), \n",
    "                                        col(nombre_columna)).otherwise(\"-\"))\n",
    "    return df_"
   ]
  },
  {
   "cell_type": "markdown",
   "id": "0cc5acd3-0713-4d3b-9de5-829ece0f13fc",
   "metadata": {},
   "source": [
    "#### reemplazar_si_no_contiene_lista"
   ]
  },
  {
   "cell_type": "code",
   "execution_count": 23,
   "id": "4c49f5a5-b021-4e84-8f43-70ee83ea5052",
   "metadata": {},
   "outputs": [],
   "source": [
    "from pyspark.sql.functions import when, col\n",
    "\n",
    "def reemplazar_si_no_contiene_lista(df, nombre_columna, palabras):\n",
    "    # Construir la expresión regular a partir de las palabras proporcionadas\n",
    "    regex_palabras = \"|\".join(palabras)\n",
    "    \n",
    "    # Reemplazar el contenido de la columna si no contiene ninguna de las palabras\n",
    "    df_ = df.withColumn(nombre_columna, \n",
    "                        when(col(nombre_columna).rlike(regex_palabras), \n",
    "                             col(nombre_columna)).otherwise(\"-\"))\n",
    "    return df_\n"
   ]
  },
  {
   "cell_type": "markdown",
   "id": "ea3d26ca-a0bd-4639-8737-0ef8675ad337",
   "metadata": {},
   "source": [
    "#### extraer_numeros"
   ]
  },
  {
   "cell_type": "code",
   "execution_count": 24,
   "id": "0f4d5ca4-62b6-4f09-ac03-eac5a286da69",
   "metadata": {},
   "outputs": [],
   "source": [
    "from pyspark.sql.functions import regexp_extract\n",
    "\n",
    "def extraer_numeros(df,columna,nueva_columna,pos=1):\n",
    "    # Utilizamos regexp_extract para extraer los números de la columna\n",
    "    df_ = df.withColumn(nueva_columna, regexp_extract(df[columna], r'(\\d+)', pos))\n",
    "    return df_"
   ]
  },
  {
   "cell_type": "markdown",
   "id": "ebce6b7a-d1ab-449f-8542-cad5a1e290b7",
   "metadata": {},
   "source": [
    "#### conteo_valores"
   ]
  },
  {
   "cell_type": "code",
   "execution_count": 25,
   "id": "4d70a9c6-0a8a-4cbe-9bce-0a45cde05c6e",
   "metadata": {},
   "outputs": [],
   "source": [
    "from pyspark.sql.functions import count\n",
    "\n",
    "def conteo_valores(df,columna):\n",
    "# Realiza un conteo de valores únicos en la columna especificada\n",
    "    conteo_valores = df.groupBy(columna).agg(count(\"*\").alias(\"count\"))\n",
    "\n",
    "    # Muestra el DataFrame resultante\n",
    "    conteo_valores.show()"
   ]
  },
  {
   "cell_type": "markdown",
   "id": "aecef435-3aec-4f57-9cbb-189ab3503955",
   "metadata": {},
   "source": [
    "#### transformar_entero"
   ]
  },
  {
   "cell_type": "code",
   "execution_count": 26,
   "id": "5d67ac6d-486d-4423-a136-e37b44221471",
   "metadata": {},
   "outputs": [],
   "source": [
    "from pyspark.sql.functions import col\n",
    "from pyspark.sql.types import IntegerType\n",
    "\n",
    "def transformar_entero(df,columna):\n",
    "    df_ = df.withColumn(columna, col(columna).cast(IntegerType()))\n",
    "    return df_"
   ]
  },
  {
   "cell_type": "markdown",
   "id": "ded30529-14ea-4026-943d-a30cb15dd55e",
   "metadata": {},
   "source": [
    "#### transformar_float"
   ]
  },
  {
   "cell_type": "code",
   "execution_count": 27,
   "id": "c1e6434c-1343-4678-9113-6b832c0e92b1",
   "metadata": {},
   "outputs": [],
   "source": [
    "from pyspark.sql.types import FloatType\n",
    "\n",
    "def transformar_float(df,columna):\n",
    "    df_ = df.withColumn(columna, col(columna).cast(FloatType()))\n",
    "    return df_"
   ]
  },
  {
   "cell_type": "markdown",
   "id": "ceed9f2a-20bf-4708-ad27-26102c0b696d",
   "metadata": {},
   "source": [
    "#### transformar_str"
   ]
  },
  {
   "cell_type": "code",
   "execution_count": 28,
   "id": "1d37cfce-555a-41eb-8008-5fb47054697a",
   "metadata": {},
   "outputs": [],
   "source": [
    "from pyspark.sql.types import FloatType\n",
    "\n",
    "def transformar_str(df,columna):\n",
    "    df_ = df.withColumn(columna, col(columna).cast(StringType()))\n",
    "    return df_"
   ]
  },
  {
   "cell_type": "markdown",
   "id": "fc40df3e-300b-4de5-b7a2-44e818438de0",
   "metadata": {},
   "source": [
    "#### transformar_fecha"
   ]
  },
  {
   "cell_type": "code",
   "execution_count": 29,
   "id": "2074fe1e-1158-4eee-8ff0-375a2f430a09",
   "metadata": {},
   "outputs": [],
   "source": [
    "from pyspark.sql.functions import to_date\n",
    "from pyspark.sql.types import DateType\n",
    "\n",
    "def transformar_fecha(df,columna,formato=\"yyyy-MM-dd\"):\n",
    "    df_ = df.withColumn(columna, to_date(col(columna), formato).cast(DateType()))\n",
    "    return df_"
   ]
  },
  {
   "cell_type": "markdown",
   "id": "2c93b9de-7b15-4cfe-ac8a-60f7689296e3",
   "metadata": {},
   "source": [
    "#### multiplicar_por_1000_si_menor"
   ]
  },
  {
   "cell_type": "code",
   "execution_count": 30,
   "id": "b1eb9b0d-4388-4b8d-90a7-95eecf0ea21e",
   "metadata": {},
   "outputs": [],
   "source": [
    "from pyspark.sql.functions import when\n",
    "\n",
    "def multiplicar_por_1000_si_menor(df, nombre_columna):\n",
    "    # Multiplicar por 1000 el valor de la columna si es menor a 9\n",
    "    df_ = df.withColumn(nombre_columna, when(df[nombre_columna] < 9, df[nombre_columna] * 1000).otherwise(df[nombre_columna]))\n",
    "    return df_"
   ]
  },
  {
   "cell_type": "markdown",
   "id": "a4322607-3422-4810-90b7-8261ec6b30bd",
   "metadata": {},
   "source": [
    "#### split_columna"
   ]
  },
  {
   "cell_type": "code",
   "execution_count": 31,
   "id": "a3fe973b-ddc4-4a8d-9646-ab14ad6d70fc",
   "metadata": {},
   "outputs": [],
   "source": [
    "from pyspark.sql.functions import split\n",
    "\n",
    "def split_columna(df, columna):\n",
    "    # Dividir la columna en una lista de valores\n",
    "    df = df.withColumn(columna + \"_split\", split(df[columna], \",\"))\n",
    "\n",
    "    # Obtener el número de columnas necesarias\n",
    "    num_columnas = df.selectExpr(\"size(\" + columna + \"_split)\").first()[0]\n",
    "\n",
    "    # Seleccionar cada elemento de la lista en columnas separadas\n",
    "    for i in range(num_columnas):\n",
    "        df = df.withColumn(columna + \"_\" + str(i+1), df[columna + \"_split\"][i])\n",
    "\n",
    "    # Eliminar la columna de la lista\n",
    "    df = df.drop(columna + \"_split\")\n",
    "    \n",
    "    return df"
   ]
  },
  {
   "cell_type": "markdown",
   "id": "9e3bc6c7-4275-47fa-a915-a688efd57b80",
   "metadata": {},
   "source": [
    "### Damos un primer vistazo al df"
   ]
  },
  {
   "cell_type": "code",
   "execution_count": 32,
   "id": "57d6f08a-961b-47cc-964b-ba49d13dfe54",
   "metadata": {},
   "outputs": [
    {
     "name": "stdout",
     "output_type": "stream",
     "text": [
      "+--------------------+-------+------+--------------------+--------------------+--------------------+--------------------+--------------------+--------------------+--------------------+-----------+\n",
      "|               model|  price|rating|                 sim|           processor|                 ram|             battery|             display|              camera|                card|         os|\n",
      "+--------------------+-------+------+--------------------+--------------------+--------------------+--------------------+--------------------+--------------------+--------------------+-----------+\n",
      "|       OnePlus 11 5G|₹54,999|    89|Dual Sim, 3G, 4G,...|Snapdragon 8 Gen2...|12 GB RAM, 256 GB...|5000 mAh Battery ...|6.7 inches, 1440 ...|50 MP + 48 MP + 3...|Memory Card Not S...|Android v13|\n",
      "|OnePlus Nord CE 2...|₹19,989|    81|Dual Sim, 3G, 4G,...|Snapdragon 695, O...|6 GB RAM, 128 GB ...|5000 mAh Battery ...|6.59 inches, 1080...|64 MP + 2 MP + 2 ...|Memory Card (Hybr...|Android v12|\n",
      "|Samsung Galaxy A1...|₹16,499|    75|Dual Sim, 3G, 4G,...|Exynos 1330, Octa...|4 GB RAM, 64 GB i...|5000 mAh Battery ...|6.6 inches, 1080 ...|50 MP + 2 MP + 2 ...|Memory Card Suppo...|Android v13|\n",
      "|Motorola Moto G62 5G|₹14,999|    81|Dual Sim, 3G, 4G,...|Snapdragon  695, ...|6 GB RAM, 128 GB ...|5000 mAh Battery ...|6.55 inches, 1080...|50 MP + 8 MP + 2 ...|Memory Card (Hybr...|Android v12|\n",
      "|  Realme 10 Pro Plus|₹24,999|    82|Dual Sim, 3G, 4G,...|Dimensity 1080, O...|6 GB RAM, 128 GB ...|5000 mAh Battery ...|6.7 inches, 1080 ...|108 MP + 8 MP + 2...|Memory Card Not S...|Android v13|\n",
      "+--------------------+-------+------+--------------------+--------------------+--------------------+--------------------+--------------------+--------------------+--------------------+-----------+\n",
      "only showing top 5 rows\n",
      "\n"
     ]
    }
   ],
   "source": [
    "data_df.show(5)"
   ]
  },
  {
   "cell_type": "code",
   "execution_count": 33,
   "id": "84f6f21a-b61d-4ad4-b5b3-f51e88d891aa",
   "metadata": {},
   "outputs": [
    {
     "name": "stdout",
     "output_type": "stream",
     "text": [
      "========================================================================================================================\n",
      "Cantidad de registros: 1020 (mil veinte)\n",
      "Cantidad de columnas: 11 (once)\n",
      "========================================================================================================================\n",
      "Tipos de datos\n",
      "\n",
      "root\n",
      " |-- model: string (nullable = true)\n",
      " |-- price: string (nullable = true)\n",
      " |-- rating: integer (nullable = true)\n",
      " |-- sim: string (nullable = true)\n",
      " |-- processor: string (nullable = true)\n",
      " |-- ram: string (nullable = true)\n",
      " |-- battery: string (nullable = true)\n",
      " |-- display: string (nullable = true)\n",
      " |-- camera: string (nullable = true)\n",
      " |-- card: string (nullable = true)\n",
      " |-- os: string (nullable = true)\n",
      "\n",
      "========================================================================================================================\n",
      "Recuento de nulos\n",
      "\n",
      "Cantidad de valores nulos por columna: \n",
      "-RECORD 0--------\n",
      " model     | 0   \n",
      " price     | 0   \n",
      " rating    | 141 \n",
      " sim       | 0   \n",
      " processor | 0   \n",
      " ram       | 0   \n",
      " battery   | 0   \n",
      " display   | 0   \n",
      " camera    | 1   \n",
      " card      | 7   \n",
      " os        | 17  \n",
      "\n",
      "========================================================================================================================\n",
      "Cantidad de filas duplicadas en el DataFrame: 0.\n",
      "========================================================================================================================\n"
     ]
    }
   ],
   "source": [
    "descripcion_df(data_df)"
   ]
  },
  {
   "cell_type": "markdown",
   "id": "12a240a8-00f0-44dd-bd24-ad22ee0eb51a",
   "metadata": {},
   "source": [
    "### Trabajamos con las columnas"
   ]
  },
  {
   "cell_type": "markdown",
   "id": "79f7131d-2508-43b5-bc14-d63fa8151f33",
   "metadata": {},
   "source": [
    "#### Eliminamos columnas inncesarias"
   ]
  },
  {
   "cell_type": "code",
   "execution_count": 34,
   "id": "c5c62f43-d8c8-4c5b-b6ee-c8a0af062e35",
   "metadata": {},
   "outputs": [],
   "source": [
    "columnas_a_eliminar=[\"display\",\"camera\"]\n",
    "data_df=eliminar_columnas(data_df,columnas_a_eliminar)"
   ]
  },
  {
   "cell_type": "markdown",
   "id": "6070a217-def5-442e-8cb0-122e0633ca6a",
   "metadata": {},
   "source": [
    "#### Eliminamos las filas con valores nulos"
   ]
  },
  {
   "cell_type": "code",
   "execution_count": 35,
   "id": "3fe2c7fe-7fab-45e6-a3f4-c36599bf154c",
   "metadata": {},
   "outputs": [],
   "source": [
    "data_df=eliminar_nulos(data_df)"
   ]
  },
  {
   "cell_type": "markdown",
   "id": "8de6642d-736c-4206-9f01-cf06dc1392d6",
   "metadata": {},
   "source": [
    "#### Columna 'price'"
   ]
  },
  {
   "cell_type": "code",
   "execution_count": 36,
   "id": "75c643b2-fcd0-4bc1-8a31-f22ba6a5b6b8",
   "metadata": {},
   "outputs": [
    {
     "name": "stdout",
     "output_type": "stream",
     "text": [
      "========================================================================================================================\n",
      "Número de valores distintos: 331\n",
      "========================================================================================================================\n",
      "Valores distintos: ['₹24,990', '₹8,799', '₹58,999', '₹40,990', '₹13,799', '₹11,000', '₹8,399', '₹1,79,900', '₹19,650', '₹27,999', '₹25,969', '₹16,940', '₹35,389', '₹11,399', '₹14,799', '₹1,04,999', '₹24,820', '₹19,499', '₹18,990', '₹15,988', '₹6,490', '₹64,800', '₹9,022', '₹1,30,990', '₹82,199', '₹33,499', '₹89,999', '₹57,999', '₹6,499', '₹16,900', '₹36,994', '₹1,09,999', '₹1,72,999', '₹32,990', '₹21,490', '₹8,990', '₹23,890', '₹10,999', '₹12,944', '₹12,990', '₹14,499', '₹10,630', '₹1,49,999', '₹36,760', '₹14,489', '₹65,999', '₹88,999', '₹4,80,000', '₹11,725', '₹43,999', '₹21,990', '₹16,990', '₹28,498', '₹6,699', '₹16,999', '₹14,990', '₹71,999', '₹15,000', '₹17,499', '₹19,989', '₹13,999', '₹1,29,900', '₹50,999', '₹54,999', '₹15,998', '₹13,279', '₹12,999', '₹32,999', '₹7,299', '₹78,990', '₹7,990', '₹28,990', '₹1,69,900', '₹10,490', '₹9,490', '₹53,100', '₹26,749', '₹42,999', '₹1,39,900', '₹8,968', '₹53,990', '₹28,499', '₹2,39,999', '₹34,949', '₹39,999', '₹36,499', '₹7,790', '₹8,388', '₹15,990', '₹27,000', '₹29,999', '₹25,289', '₹64,449', '₹8,859', '₹49,959', '₹44,990', '₹24,762', '₹89,990', '₹10,890', '₹70,990', '₹36,000', '₹17,994', '₹23,399', '₹22,998', '₹21,899', '₹13,499', '₹86,000', '₹14,746', '₹17,478', '₹22,990', '₹75,999', '₹14,439', '₹18,699', '₹7,749', '₹40,480', '₹31,990', '₹49,999', '₹20,499', '₹9,589', '₹84,999', '₹20,120', '₹14,859', '₹25,899', '₹19,990', '₹40,999', '₹28,249', '₹25,000', '₹26,990', '₹1,19,990', '₹11,600', '₹45,999', '₹38,999', '₹18,499', '₹10,799', '₹23,790', '₹22,490', '₹11,999', '₹12,390', '₹39,900', '₹30,994', '₹27,499', '₹11,879', '₹19,980', '₹11,936', '₹30,990', '₹7,499', '₹72,999', '₹18,000', '₹31,994', '₹12,120', '₹1,24,990', '₹8,720', '₹11,990', '₹41,990', '₹8,890', '₹38,700', '₹11,700', '₹54,300', '₹23,999', '₹12,500', '₹9,690', '₹10,990', '₹35,489', '₹1,62,990', '₹13,989', '₹25,900', '₹3,990', '₹60,990', '₹1,09,900', '₹1,29,990', '₹33,900', '₹1,39,990', '₹27,660', '₹22,700', '₹18,999', '₹29,340', '₹75,990', '₹15,824', '₹20,999', '₹33,749', '₹9,990', '₹12,199', '₹19,988', '₹24,999', '₹55,999', '₹14,999', '₹10,949', '₹21,994', '₹59,450', '₹27,990', '₹1,49,900', '₹7,320', '₹24,494', '₹47,990', '₹28,999', '₹13,466', '₹11,490', '₹20,000', '₹15,499', '₹23,499', '₹23,269', '₹61,990', '₹25,990', '₹23,990', '₹7,289', '₹84,990', '₹91,999', '₹16,685', '₹6,249', '₹11,989', '₹8,950', '₹15,490', '₹23,500', '₹21,995', '₹8,299', '₹67,999', '₹1,47,900', '₹49,990', '₹29,990', '₹27,994', '₹1,34,999', '₹15,999', '₹22,999', '₹99,990', '₹1,42,990', '₹6,799', '₹12,787', '₹23,994', '₹74,999', '₹5,999', '₹31,239', '₹42,990', '₹28,994', '₹26,380', '₹9,499', '₹12,499', '₹6,299', '₹11,828', '₹20,990', '₹25,895', '₹92,999', '₹58,990', '₹13,969', '₹48,990', '₹13,774', '₹8,390', '₹14,590', '₹82,990', '₹9,950', '₹7,399', '₹60,999', '₹12,188', '₹46,990', '₹95,999', '₹10,300', '₹1,19,900', '₹21,890', '₹59,999', '₹6,50,000', '₹62,999', '₹21,788', '₹25,595', '₹83,000', '₹35,499', '₹64,999', '₹34,999', '₹21,999', '₹8,910', '₹6,999', '₹59,990', '₹12,490', '₹31,999', '₹24,499', '₹17,859', '₹39,990', '₹1,82,999', '₹26,499', '₹16,499', '₹9,999', '₹22,994', '₹14,700', '₹12,340', '₹9,299', '₹10,850', '₹14,965', '₹51,999', '₹69,990', '₹12,364', '₹1,10,999', '₹35,990', '₹16,490', '₹14,290', '₹13,490', '₹63,990', '₹41,999', '₹17,990', '₹24,994', '₹22,494', '₹50,990', '₹18,498', '₹13,990', '₹7,999', '₹10,499', '₹46,999', '₹36,999', '₹11,499', '₹69,999', '₹12,799', '₹13,489', '₹3,499', '₹20,490', '₹64,900', '₹48,900', '₹35,999', '₹25,994', '₹44,999', '₹34,990', '₹12,989', '₹8,499', '₹8,099', '₹14,450', '₹54,990', '₹19,999', '₹17,999', '₹8,999', '₹19,000', '₹7,249', '₹14,490', '₹12,489', '₹25,999', '₹26,999']\n",
      "========================================================================================================================\n"
     ]
    }
   ],
   "source": [
    "valores_columna(data_df,\"price\")"
   ]
  },
  {
   "cell_type": "code",
   "execution_count": 37,
   "id": "554a8e2c-10be-4068-807d-d4d0e1ff341f",
   "metadata": {},
   "outputs": [],
   "source": [
    "data_df=reemplazar_caracteres(data_df,\"price\",\"₹\",\"\")\n",
    "data_df=reemplazar_caracteres(data_df,\"price\",\",\",\"\")\n",
    "\n",
    "from pyspark.sql.functions import col, round\n",
    "\n",
    "# Convertimos el tipo de moneda a USD\n",
    "data_df = data_df.withColumn(\"price\", round(col(\"price\") * 0.0119564, 2))"
   ]
  },
  {
   "cell_type": "markdown",
   "id": "90f0e80a-f71a-4087-9bdc-0d8b2200eea5",
   "metadata": {},
   "source": [
    "#### Columna 'rating'"
   ]
  },
  {
   "cell_type": "code",
   "execution_count": 38,
   "id": "22cdc283-765e-437d-901c-c5f1cdf9c1e9",
   "metadata": {},
   "outputs": [
    {
     "name": "stdout",
     "output_type": "stream",
     "text": [
      "========================================================================================================================\n",
      "Número de valores distintos: 30\n",
      "========================================================================================================================\n",
      "Valores distintos: [85, 65, 78, 81, 76, 86, 64, 61, 88, 72, 84, 87, 69, 63, 77, 82, 80, 73, 70, 62, 60, 75, 83, 68, 71, 79, 66, 67, 74, 89]\n",
      "========================================================================================================================\n"
     ]
    }
   ],
   "source": [
    "valores_columna(data_df,\"rating\")"
   ]
  },
  {
   "cell_type": "markdown",
   "id": "e13c7afa-08a6-496c-b4a7-892c230d923a",
   "metadata": {},
   "source": [
    "#### Columna 'sim'"
   ]
  },
  {
   "cell_type": "code",
   "execution_count": 39,
   "id": "33c076ff-710e-433a-b7f2-be788443f41c",
   "metadata": {},
   "outputs": [
    {
     "name": "stdout",
     "output_type": "stream",
     "text": [
      "========================================================================================================================\n",
      "Número de valores distintos: 19\n",
      "========================================================================================================================\n",
      "Valores distintos: ['Single Sim, 3G, 4G, VoLTE, Wi-Fi, NFC', 'Dual Sim, 3G, 4G, VoLTE, Wi-Fi', 'Dual Sim, 3G, 4G, 5G, VoLTE, Wi-Fi', 'Single Sim, 3G, 4G, VoLTE, Wi-Fi', 'Dual Sim, 3G, 4G, 5G, VoLTE, Vo5G, Wi-Fi, NFC', 'Dual Sim, 3G, 4G, VoLTE, Wi-Fi, NFC', 'Dual Sim, 3G, 4G, 5G, VoLTE, Vo5G, Wi-Fi', 'Dual Sim, 3G, 4G, 5G, VoLTE, Vo5G, Wi-Fi, NFC, IR Blaster', 'Dual Sim, 3G, 4G, VoLTE, Wi-Fi, IR Blaster', 'Dual Sim, 3G, 4G, 5G, VoLTE, Vo5G, Wi-Fi, IR Blaster', 'Dual Sim, 3G, 4G, 5G, VoLTE, Wi-Fi, IR Blaster', 'Dual Sim, 3G, 4G, 5G, VoLTE, Wi-Fi, NFC, IR Blaster', 'Single Sim, 3G, 4G, 5G, VoLTE, Wi-Fi', 'Single Sim, 3G, 4G, 5G, VoLTE, Wi-Fi, NFC', 'Dual Sim, 3G, 4G, 5G, VoLTE, Wi-Fi, NFC', 'Dual Sim, 3G, 4G, Wi-Fi', 'Single Sim, 3G, 4G, Wi-Fi, NFC', 'Dual Sim, 3G, 4G, VoLTE, Wi-Fi, NFC, IR Blaster', 'Dual Sim, 3G, 4G, Wi-Fi, NFC']\n",
      "========================================================================================================================\n"
     ]
    }
   ],
   "source": [
    "valores_columna(data_df,\"sim\")"
   ]
  },
  {
   "cell_type": "code",
   "execution_count": 40,
   "id": "353c0777-3bb3-4ec8-a159-50f73622c7a0",
   "metadata": {},
   "outputs": [],
   "source": [
    "from pyspark.sql.functions import when, col\n",
    "\n",
    "# Crear la nueva columna \"5G\" basada en si la columna \"sim\" contiene la palabra \"5G\"\n",
    "data_df = data_df.withColumn(\"5G\", when(col(\"sim\").rlike(\"5G\"), True).otherwise(False))\n",
    "\n",
    "# Crear la nueva columna \"NFC\" basada en si la columna \"sim\" contiene la palabra \"NFC\"\n",
    "data_df = data_df.withColumn(\"NFC\", when(col(\"sim\").rlike(\"NFC\"), True).otherwise(False))\n"
   ]
  },
  {
   "cell_type": "code",
   "execution_count": 41,
   "id": "7f82238c-1dbd-4042-8835-fcbfc7c4d7d0",
   "metadata": {},
   "outputs": [
    {
     "name": "stdout",
     "output_type": "stream",
     "text": [
      "========================================================================================================================\n",
      "Número de valores distintos: 2\n",
      "========================================================================================================================\n",
      "Valores distintos: [True, False]\n",
      "========================================================================================================================\n"
     ]
    }
   ],
   "source": [
    "valores_columna(data_df,\"NFC\")"
   ]
  },
  {
   "cell_type": "code",
   "execution_count": 42,
   "id": "4300f95e-8add-4e07-9a74-94cf488264c6",
   "metadata": {},
   "outputs": [],
   "source": [
    "from pyspark.sql.functions import split\n",
    "\n",
    "# Aplicamos la función split para dividir la columna 'sim' por la coma y extraer el primer segmento\n",
    "data_df = data_df.withColumn(\"sim\", split(data_df[\"sim\"], \",\").getItem(0))"
   ]
  },
  {
   "cell_type": "code",
   "execution_count": 43,
   "id": "784a7868-4e3a-4afe-b232-c79e06f1f1d4",
   "metadata": {},
   "outputs": [
    {
     "name": "stdout",
     "output_type": "stream",
     "text": [
      "========================================================================================================================\n",
      "Número de valores distintos: 2\n",
      "========================================================================================================================\n",
      "Valores distintos: ['Dual Sim', 'Single Sim']\n",
      "========================================================================================================================\n"
     ]
    }
   ],
   "source": [
    "valores_columna(data_df,\"sim\")"
   ]
  },
  {
   "cell_type": "markdown",
   "id": "39b3d123-d423-4509-bc38-8d7ccf110b58",
   "metadata": {},
   "source": [
    "#### Columna 'processor'"
   ]
  },
  {
   "cell_type": "code",
   "execution_count": 44,
   "id": "e4e13ec5-e01d-4c79-80c6-7b583cdccca0",
   "metadata": {
    "scrolled": true
   },
   "outputs": [
    {
     "name": "stdout",
     "output_type": "stream",
     "text": [
      "========================================================================================================================\n",
      "Número de valores distintos: 245\n",
      "========================================================================================================================\n",
      "Valores distintos: ['Snapdragon 662, Octa Core, 2\\u2009GHz Processor', 'Quad Core, 1.6\\u2009GHz Processor', 'Apple  A13', 'Unisoc T606, Octa Core, 1.6\\u2009GHz Processor', 'Tiger T610, Octa Core, 1.82\\u2009GHz Processor', 'Dimensity 1200, Octa Core, 3\\u2009GHz Processor', 'Unisoc T610, Octa Core, 1.8\\u2009GHz Processor', 'Exynos 9810, Octa Core, 2.8\\u2009GHz Processor', 'Tiger T606, Octa Core, 2\\u2009GHz Processor', 'Snapdragon  8+ Gen1, Octa Core, 3.2\\u2009GHz Processor', 'Snapdragon 6 Gen 1, Octa Core, 2.2\\u2009GHz Processor', 'Snapdragon 870 , Octa Core, 3.2\\u2009GHz Processor', 'Helio  G88, Octa Core, 2\\u2009GHz Processor', 'Snapdragon  662 , Octa Core, 2\\u2009GHz Processor', 'Snapdragon 690, Octa Core, 2\\u2009GHz Processor', 'Tiger T610, Octa Core, 1.8\\u2009GHz Processor', 'Helio G85, Octa Core, 2\\u2009GHz Processor', 'Dimensity  9200, Octa Core Processor', 'Snapdragon  6 Gen 1, Octa Core, 2.2\\u2009GHz Processor', 'Google  Tensor, Octa Core, 2.8\\u2009GHz Processor', 'Snapdragon  765G, Octa Core, 2.4\\u2009GHz Processor', 'Snapdragon 765G , Octa Core, 2.4\\u2009GHz Processor', 'Snapdragon  765G , Octa Core, 2.4\\u2009GHz Processor', 'Dimensity 8100 Max, Octa Core, 2.85\\u2009GHz Processor', 'Exynos 1280, Octa Core Processor', 'Dimensity  1200 Max, Octa Core, 3\\u2009GHz Processor', 'Snapdragon  8 Gen2, Octa Core, 3.2\\u2009GHz Processor', 'Snapdragon  750G , Octa Core, 2.2\\u2009GHz Processor', 'Snapdragon 8 Gen1, Octa Core, 3\\u2009GHz Processor', 'Snapdragon  810, Octa Core, 2.4\\u2009GHz Processor', 'Dimensity 9000 Plus, Octa Core, 3.2\\u2009GHz Processor', 'Helio P95, Octa Core, 2.2\\u2009GHz Processor', 'Dimensity 8100 Ultra, Octa Core, 2.85\\u2009GHz Processor', 'Snapdragon 8+ Gen1, Octa Core, 3.2\\u2009GHz Processor', 'Helio  P22 , Octa Core, 2\\u2009GHz Processor', 'Snapdragon 732G , Octa Core, 2.3\\u2009GHz Processor', 'Bionic  A17, Octa Core Processor', 'Tiger T7150, Quad Core, 1.8\\u2009GHz Processor', 'Snapdragon  480+, Octa Core, 2.2\\u2009GHz Processor', 'Dimensity 8100, Octa Core, 2.85\\u2009GHz Processor', 'Exynos 2100, Octa Core, 2.9\\u2009GHz Processor', 'Snapdragon 778G+, Octa Core, 2.5\\u2009GHz Processor', 'Google Tensor, Octa Core, 2.8\\u2009GHz Processor', 'Snapdragon  888 , Octa Core, 2.84\\u2009GHz Processor', 'Snapdragon 888+, Octa Core, 2.9\\u2009GHz Processor', 'Tiger T610, Quad Core, 1.8\\u2009GHz Processor', 'Bionic A16', 'Exynos 850, Octa Core, 2\\u2009GHz Processor', 'Dimensity 1300, Octa Core, 3\\u2009GHz Processor', 'Helio P60, Octa Core, 1.99\\u2009GHz Processor', 'Unisoc  T610, Octa Core, 1.8\\u2009GHz Processor', 'Helio  P35, Octa Core, 2.3\\u2009GHz Processor', 'Octa Core, 2\\u2009GHz Processor', 'Helio P23, Octa Core, 2.5\\u2009GHz Processor', ' Snapdragon 695, Octa Core, 2.2\\u2009GHz Processor', 'Unisoc T612, Octa Core, 1.8\\u2009GHz Processor', 'Helio  G95, Octa Core, 2.05\\u2009GHz Processor', 'Dimensity 800U, Octa Core, 2.4\\u2009GHz Processor', 'Dimensity  900, Octa Core, 2\\u2009GHz Processor', 'Dimensity  8100, Octa Core, 2.85\\u2009GHz Processor', 'Snapdragon 835, Octa Core, 2.35\\u2009GHz Processor', 'Helio P35 , Octa Core, 2.3\\u2009GHz Processor', 'Helio  P65 , Octa Core, 2\\u2009GHz Processor', 'Snapdragon  7 Gen2, Octa Core Processor', 'Exynos  2100, Octa Core, 2.9\\u2009GHz Processor', 'Google Tensor G2, Octa Core, 2.85\\u2009GHz Processor', 'Exynos 9820, Octa Core, 2.7\\u2009GHz Processor', 'Snapdragon  888+, Octa Core, 2.9\\u2009GHz Processor', 'Bionic A16, Hexa Core Processor', 'Dimensity 810, Octa Core, 2.4\\u2009GHz Processor', 'Dimensity 810 5G, Octa Core, 2.4\\u2009GHz Processor', 'Unisoc SC9863A, Octa Core, 1.6\\u2009GHz Processor', 'Bionic  A16, Hexa Core Processor', 'Snapdragon 845, Octa Core, 2.8\\u2009GHz Processor', 'Snapdragon 439, Octa Core, 1.95\\u2009GHz Processor', 'Helio P35, Octa Core, 1.8\\u2009GHz Processor', 'Google  Tensor 3, Octa Core Processor', 'Dimensity  920 5G, Octa Core, 2.5\\u2009GHz Processor', 'Dimensity 1000+, Octa Core, 2.6\\u2009GHz Processor', 'Dimensity  900 5G, Octa Core, 2.4\\u2009GHz Processor', 'Helio G25, Octa Core, 2\\u2009GHz Processor', 'Qualcomm Snapdragon 625, Octa Core, 2\\u2009GHz Processor', 'Snapdragon  855, Octa Core, 2.8\\u2009GHz Processor', 'Snapdragon  750G, Octa Core, 2.2\\u2009GHz Processor', 'Dimensity  930, Octa Core, 2.2\\u2009GHz Processor', 'Snapdragon  675, Octa Core, 2\\u2009GHz Processor', 'Helio  G99, Octa Core, 2.2\\u2009GHz Processor', 'Snapdragon  720G , Octa Core, 2.3\\u2009GHz Processor', 'Dimensity 1080, Octa Core, 2.6\\u2009GHz Processor', 'Snapdragon  7 Gen1, Octa Core, 2.36\\u2009GHz Processor', 'Helio A22, Quad Core, 2\\u2009GHz Processor', 'Snapdragon 730, Octa Core, 2.2\\u2009GHz Processor', 'Unisoc  T606, Octa Core, 1.6\\u2009GHz Processor', 'Unisoc  SC9863A, Octa Core, 1.6\\u2009GHz Processor', 'Snapdragon 8 Gen2, Octa Core, 3.2\\u2009GHz Processor', 'Helio G37, Octa Core, 2.3\\u2009GHz Processor', 'Snapdragon 855, Octa Core, 2.8\\u2009GHz Processor', 'Dimensity 900, Octa Core, 2\\u2009GHz Processor', 'Exynos 1380, Octa Core Processor', 'Snapdragon 855+, Octa Core, 2.96\\u2009GHz Processor', 'Exynos 1330, Octa Core, 2.4\\u2009GHz Processor', 'Dimensity  810 5G, Octa Core, 2.4\\u2009GHz Processor', 'Snapdragon  439 , Octa Core, 2\\u2009GHz Processor', 'Helio G99, Octa Core, 2.2\\u2009GHz Processor', 'Snapdragon  695 , Octa Core, 2.2\\u2009GHz Processor', 'Exynos 1200, Octa Core, 2.4\\u2009GHz Processor', 'Helio  G37, Octa Core, 2.3\\u2009GHz Processor', 'Snapdragon  888, Octa Core, 2.84\\u2009GHz Processor', 'Exynos 7904, Octa Core, 1.8\\u2009GHz Processor', 'Dimensity  900, Octa Core, 2.4\\u2009GHz Processor', 'Quad Core, 1.3\\u2009GHz Processor', 'Octa Core Processor', 'Helio A25, Octa Core, 1.8\\u2009GHz Processor', 'Snapdragon 675, Octa Core, 2\\u2009GHz Processor', 'Helio G95, Octa Core, 2.05\\u2009GHz Processor', 'Snapdragon 720G , Octa Core, 2.3\\u2009GHz Processor', 'Kirin 9000E, Octa Core, 3.13\\u2009GHz Processor', 'Unisoc  T606, Octa Core, 2\\u2009GHz Processor', 'Google Tensor 3, Octa Core Processor', 'Snapdragon 678, Octa Core, 2.2\\u2009GHz Processor', 'Snapdragon  720G, Octa Core, 2.3\\u2009GHz Processor', 'Snapdragon 615, Octa Core, 1.5\\u2009GHz Processor', 'Dimensity 9200, Octa Core Processor', 'Qualcomm Snapdragon 670, Octa Core, 2\\u2009GHz Processor', 'Snapdragon 460, Octa Core, 1.8\\u2009GHz Processor', 'Dimensity 8200, Octa Core, 3.1\\u2009GHz Processor', 'Unisoc  SC9863a, Octa Core, 1.6\\u2009GHz Processor', 'A13 Bionic, Hexa Core, 2.65\\u2009GHz Processor', 'Snapdragon  778G Plus, Octa Core, 2.5\\u2009GHz Processor', 'Exynos  990, Octa Core, 2.73\\u2009GHz Processor', 'Tiger T700, Octa Core, 1.8\\u2009GHz Processor', 'Tiger T612, Octa Core, 1.82\\u2009GHz Processor', 'Exynos 9825, Octa Core, 2.73\\u2009GHz Processor', 'Helio P35, Octa Core, 2.3\\u2009GHz Processor', 'Snapdragon  865 , Octa Core, 2.84\\u2009GHz Processor', 'Bionic  A15, Hexa Core, 3.22\\u2009GHz Processor', 'Snapdragon  480 , Octa Core, 2\\u2009GHz Processor', 'Exynos 7885, Octa Core, 2.2\\u2009GHz Processor', 'Dimensity 800U , Octa Core, 2.4\\u2009GHz Processor', 'Exynos 9825, Octa Core, 2.7\\u2009GHz Processor', 'Dimensity 900, Octa Core, 2.4\\u2009GHz Processor', 'Snapdragon  690 , Octa Core, 2\\u2009GHz Processor', 'Snapdragon 450, Octa Core, 1.8\\u2009GHz Processor', 'Snapdragon 4 Gen 1, Octa Core, 2\\u2009GHz Processor', 'Dimensity 930, Octa Core, 2.2\\u2009GHz Processor', 'Exynos  9611 , Octa Core, 2.3\\u2009GHz Processor', 'Snapdragon  7 Gen1, Octa Core, 2.4\\u2009GHz Processor', 'Dimensity  700 5G, Octa Core, 2.2\\u2009GHz Processor', 'Snapdragon  782G, Octa Core, 2.7\\u2009GHz Processor', 'Snapdragon  778G, Octa Core, 2.4\\u2009GHz Processor', 'Helio G80, Octa Core, 2\\u2009GHz Processor', 'Helio P60, Octa Core, 2\\u2009GHz Processor', 'SC9863A, Octa Core, 1.6\\u2009GHz Processor', 'Snapdragon 8+ Gen 2, Octa Core Processor', 'Snapdragon  8 Gen1, Octa Core, 3\\u2009GHz Processor', 'Snapdragon 7 Gen1, Octa Core, 2.36\\u2009GHz Processor', 'Snapdragon 778G+, Octa Core Processor', 'Dimensity 9000, Octa Core, 3.05\\u2009GHz Processor', 'Snapdragon 888+ , Octa Core, 2.9\\u2009GHz Processor', 'Helio  G25, Octa Core, 2\\u2009GHz Processor', 'Snapdragon 732G, Octa Core, 2.3\\u2009GHz Processor', 'Snapdragon 778G, Octa Core, 2.4\\u2009GHz Processor', 'Snapdragon 801, Octa Core, 1.5\\u2009GHz Processor', 'Helio G96, Octa Core, 2.05\\u2009GHz Processor', 'Helio G96, Octa Core, 2\\u2009GHz Processor', 'Snapdragon  4 Gen 1, Octa Core, 2\\u2009GHz Processor', 'Dimensity 700 , Octa Core, 2.2\\u2009GHz Processor', 'Snapdragon 680, Octa Core, 2.4\\u2009GHz Processor', 'Snapdragon  732G, Octa Core, 2.3\\u2009GHz Processor', 'Sanpdragon 680, Octa Core, 2.4\\u2009GHz Processor', 'Snapdragon  695, Octa Core, 2.2\\u2009GHz Processor', 'Helio  G96, Octa Core, 2.05\\u2009GHz Processor', 'Snapdragon  730G, Octa Core, 2.2\\u2009GHz Processor', ' Snapdragon  695, Octa Core, 2.2\\u2009GHz Processor', 'Bionic  A16', 'Snapdragon  778G , Octa Core, 2.4\\u2009GHz Processor', 'Exynos 1330, Octa Core Processor', 'Snapdragon 680 , Octa Core, 2.4\\u2009GHz Processor', 'Snapdragon 665, Octa Core, 2\\u2009GHz Processor', 'Helio  G90T, Octa Core, 2.05\\u2009GHz Processor', 'Snapdragon 870, Octa Core, 3.2\\u2009GHz Processor', 'Helio G85 , Octa Core, 2\\u2009GHz Processor', 'Exynos  2300, Octa Core Processor', 'Exynos 9810, Octa Core, 2.7\\u2009GHz Processor', 'Helio   G90T , Octa Core, 2.05\\u2009GHz Processor', 'Helio G95, Octa Core, 2\\u2009GHz Processor', 'Snapdragon 775', 'Exynos 990, Octa Core, 2.73\\u2009GHz Processor', 'Tiger T616, Octa Core, 2\\u2009GHz Processor', 'Snapdragon  665, Octa Core, 2\\u2009GHz Processor', 'Bionic A15, Hexa Core, 3.22\\u2009GHz Processor', 'Snapdragon 865, Octa Core, 2.84\\u2009GHz Processor', 'Snapdragon 730G, Octa Core, 2.2\\u2009GHz Processor', 'Snapdragon  870, Octa Core, 3.2\\u2009GHz Processor', 'Samsung Exynos 7885, Octa Core, 2.2\\u2009GHz Processor', 'Snapdragon 720G, Octa Core, 2.3\\u2009GHz Processor', 'Helio G88, Octa Core, 2\\u2009GHz Processor', 'Snapdragon 865 , Octa Core, 2.84\\u2009GHz Processor', 'Exynos  1280, Octa Core, 2.4\\u2009GHz Processor', 'Dimensity 9200, Octa Core, 3.05\\u2009GHz Processor', 'Dimensity 720, Octa Core, 2\\u2009GHz Processor', 'Helio G35, Octa Core, 2.3\\u2009GHz Processor', 'Snapdragon  778G+, Octa Core Processor', 'Dimensity 700 5G, Octa Core, 2.2\\u2009GHz Processor', 'Snapdragon 695 , Octa Core, 2.2\\u2009GHz Processor', 'Dimensity 700, Octa Core, 2.2\\u2009GHz Processor', 'Dimensity 1100 5G, Octa Core, 2.6\\u2009GHz Processor', 'Snapdragon 439, Octa Core, 2\\u2009GHz Processor', 'Snapdragon 460 , Octa Core, 1.8\\u2009GHz Processor', 'Octa Core, 1.8\\u2009GHz Processor', 'Snapdragon 712, Octa Core, 2.3\\u2009GHz Processor', 'Helio  P22, Octa Core, 2\\u2009GHz Processor', 'Octa Core, 2.2\\u2009GHz Processor', 'Snapdragon 710, Octa Core, 2.2\\u2009GHz Processor', 'Dimensity  1300, Octa Core, 3\\u2009GHz Processor', 'Snapdragon  680, Octa Core, 2.4\\u2009GHz Processor', 'Dimensity  8200, Octa Core, 3.1\\u2009GHz Processor', 'Helio P70, Octa Core, 2\\u2009GHz Processor', 'Snapdragon 765G, Octa Core, 2.4\\u2009GHz Processor', 'Dimensity 700, Octa Core, 2\\u2009GHz Processor', 'Bionic A14, Hexa Core, 3.1\\u2009GHz Processor', 'Snapdragon 860, Octa Core, 2.96\\u2009GHz Processor', 'Kirin  810, Octa Core, 2.2\\u2009GHz Processor', 'Dimensity  9000, Octa Core, 3.05\\u2009GHz Processor', 'Snapdragon 7 Gen1, Octa Core, 2.4\\u2009GHz Processor', 'Snapdragon 695, Octa Core, 2.2\\u2009GHz Processor', 'Helio G70, Octa Core, 2\\u2009GHz Processor', 'Helio  G85, Octa Core, 2\\u2009GHz Processor', 'Tiger  T616, Octa Core, 1.8\\u2009GHz Processor', 'Exynos  850, Octa Core, 2\\u2009GHz Processor', 'Exynos 9611, Octa Core, 2.3\\u2009GHz Processor', 'Google  Tensor, Octa Core Processor', 'Dimensity 920 5G, Octa Core, 2.5\\u2009GHz Processor', 'Snapdragon  680 , Octa Core, 2.4\\u2009GHz Processor', 'Snapdragon 480+, Octa Core, 2.2\\u2009GHz Processor', 'Helio P22, Octa Core, 2\\u2009GHz Processor', 'Exynos 1280, Octa Core, 2.4\\u2009GHz Processor', 'Kirin 659, Octa Core, 2.36\\u2009GHz Processor', 'Snapdragon 778G Plus, Octa Core, 2.5\\u2009GHz Processor', 'Helio G37, Octa Core, 1.8\\u2009GHz Processor', 'Snapdragon 888, Octa Core, 2.84\\u2009GHz Processor', 'Dimensity 8100-Max, Octa Core, 2.85\\u2009GHz Processor', 'Snapdragon 662 , Octa Core, 2\\u2009GHz Processor', 'Tiger  T610, Octa Core, 1.8\\u2009GHz Processor', 'Snapdragon  712 , Octa Core, 2.3\\u2009GHz Processor']\n",
      "========================================================================================================================\n"
     ]
    }
   ],
   "source": [
    "valores_columna(data_df,\"processor\")"
   ]
  },
  {
   "cell_type": "markdown",
   "id": "113feeaf-2cc3-4d66-aee5-8abb9558ab83",
   "metadata": {},
   "source": [
    "from pyspark.sql.functions import regexp_replace\n",
    "\n",
    "for col_name in data_df.columns:\n",
    "    data_df = data_df.withColumn(col_name, regexp_replace(col(col_name), r'\\u2009', ' '))\n"
   ]
  },
  {
   "cell_type": "code",
   "execution_count": 45,
   "id": "a9410469-92e0-46c2-903f-24bc63a217b5",
   "metadata": {},
   "outputs": [],
   "source": [
    "# Reemplazamos el caracter '\\u2009' en las columnas del dataframe\n",
    "data_df=reemplazar_caracteres(data_df,\"processor\",\"\\u2009\",\" \")\n"
   ]
  },
  {
   "cell_type": "code",
   "execution_count": 46,
   "id": "9b4ce339-5464-4b18-9f25-5d96319f588c",
   "metadata": {},
   "outputs": [],
   "source": [
    "from pyspark.sql.functions import split\n",
    "\n",
    "# Aplicamos la función split para dividir la columna 'processor' por la coma y extraer el primer segmento\n",
    "data_df = data_df.withColumn(\"processor\", split(data_df[\"processor\"], \",\").getItem(0))"
   ]
  },
  {
   "cell_type": "markdown",
   "id": "13cd1a8d-8cdd-48dd-92a1-94a3011734b8",
   "metadata": {},
   "source": [
    "#### Columna 'battery'"
   ]
  },
  {
   "cell_type": "code",
   "execution_count": 47,
   "id": "7f8599f7-f644-4250-aa6d-261f21e8525c",
   "metadata": {
    "scrolled": true
   },
   "outputs": [
    {
     "name": "stdout",
     "output_type": "stream",
     "text": [
      "========================================================================================================================\n",
      "Número de valores distintos: 210\n",
      "========================================================================================================================\n",
      "Valores distintos: ['4500\\u2009mAh Battery with 180W Fast Charging', '4700\\u2009mAh Battery with 120W Fast Charging', '4323\\u2009mAh Battery with Fast Charging', '4300\\u2009mAh Battery with 30W Fast Charging', '4500\\u2009mAh Battery with 20W Fast Charging', '6000\\u2009mAh Battery with Fast Charging', '4700\\u2009mAh Battery with 67W Fast Charging', '4080\\u2009mAh Battery with 18W Fast Charging', '5000\\u2009mAh Battery with 120W Fast Charging', '2800\\u2009mAh Battery with Fast Charging', '5500\\u2009mAh Battery with 67W Fast Charging', '4200\\u2009mAh Battery with 33W Fast Charging', '3095\\u2009mAh Battery with Fast Charging', '5000\\u2009mAh Battery with 40W Fast Charging', '3520\\u2009mAh Battery with Fast Charging', '4100\\u2009mAh Battery', '5000\\u2009mAh Battery with 135W Fast Charging', '5000\\u2009mAh Battery with 66W Fast Charging', '6000\\u2009mAh Battery with 44W Fast Charging', '6000\\u2009mAh Battery', '5000\\u2009mAh Battery with 65W Fast Charging', '5160\\u2009mAh Battery with 67W Fast Charging', '4020\\u2009mAh Battery with 68W Fast Charging', '3730\\u2009mAh Battery with Fast Charging', '4500\\u2009mAh Battery with 44W Fast Charging', '4600\\u2009mAh Battery with 66W Fast Charging', '4700\\u2009mAh Battery with 33W Fast Charging', '5000\\u2009mAh Battery with 18W Fast Charging', '4250\\u2009mAh Battery with 33W Fast Charging', '4000\\u2009mAh Battery with 27W Fast Charging', '4500\\u2009mAh Battery with 66W Fast Charging', '5000\\u2009mAh Battery with 22.5W Fast Charging', '3700\\u2009mAh Battery with 25W Fast Charging', '4800\\u2009mAh Battery with 33W Fast Charging', '4300\\u2009mAh Battery with 33W Fast Charging', '5160\\u2009mAh Battery with 45W Fast Charging', '4520\\u2009mAh Battery with 33W Fast Charging', '5180\\u2009mAh Battery with 10W Fast Charging', '4800\\u2009mAh Battery with 100W Fast Charging', '4470\\u2009mAh Battery with 18W Fast Charging', '4800\\u2009mAh Battery with 68W Fast Charging', '6000\\u2009mAh Battery with 65W Fast Charging', '7000\\u2009mAh Battery with 18W Fast Charging', '4310\\u2009mAh Battery with 30W Fast Charging', '3285\\u2009mAh Battery with Fast Charging', '6000\\u2009mAh Battery with 18W Fast Charging', '5000\\u2009mAh Battery', '5020\\u2009mAh Battery with 22.5W Fast Charging', '3000\\u2009mAh Battery with 10W Fast Charging', '5000\\u2009mAh Battery with 25W Fast Charging', '4500\\u2009mAh Battery with Fast Charging', '5200\\u2009mAh Battery with 67W Fast Charging', '3500\\u2009mAh Battery with Fast Charging', '5000\\u2009mAh Battery with 68.2W Fast Charging', '4350\\u2009mAh Battery with 120W Fast Charging', '5080\\u2009mAh Battery with 120W Fast Charging', '5.4 inches, 1080\\u2009x\\u20092340\\u2009px Display', '4355\\u2009mAh Battery with 30W Fast Charging', '4300\\u2009mAh Battery with 45W Fast Charging', '4700\\u2009mAh Battery with 80W Fast Charging', '3500\\u2009mAh Battery with 18W Fast Charging', '5000\\u2009mAh Battery with 30W Fast Charging', '4400\\u2009mAh Battery with 25W Fast Charging', '4800\\u2009mAh Battery with 125W Fast Charging', '1821\\u2009mAh Battery with 18W Fast Charging', '5100\\u2009mAh Battery with 40W Fast Charging', '4830\\u2009mAh Battery with 67W Fast Charging', '4310\\u2009mAh Battery with 50W Fast Charging', '5100\\u2009mAh Battery with 120W Fast Charging', '4300\\u2009mAh Battery with 67W Fast Charging', '5160\\u2009mAh Battery with 33W Fast Charging', '4300\\u2009mAh Battery with 65W Fast Charging', '4980\\u2009mAh Battery with 120W Fast Charging', '6000\\u2009mAh Battery with 25W Fast Charging', '5003\\u2009mAh Battery with 30W Fast Charging', '2275\\u2009mAh Battery', '4000\\u2009mAh Battery with 18W Fast Charging', '4600\\u2009mAh Battery with 240W Fast Charging', '4300\\u2009mAh Battery with 25W Fast Charging', '4000\\u2009mAh Battery with 20W Fast Charging', '4000\\u2009mAh Battery with 22.5W Fast Charging', '5100\\u2009mAh Battery with 18W Fast Charging', '6.1 inches, 1170\\u2009x\\u20092532\\u2009px Display with Large Notch', '5000\\u2009mAh Battery with 10W Fast Charging', '4620\\u2009mAh Battery with 18W Fast Charging', '5100\\u2009mAh Battery with 45W Fast Charging', '5000\\u2009mAh Battery with 60W Fast Charging', '4100\\u2009mAh Battery with 15W Fast Charging', '6000\\u2009mAh Battery with 120W Fast Charging', '5000\\u2009mAh Battery with 100W Fast Charging', '4350\\u2009mAh Battery with 65W Fast Charging', '4000\\u2009mAh Battery with 25W Fast Charging', '3315\\u2009mAh Battery', '3600\\u2009mAh Battery with 18W Fast Charging', '3500\\u2009mAh Battery', '4500\\u2009mAh Battery with 65W Fast Charging', '4000\\u2009mAh Battery with 66W Fast Charging', '3300\\u2009mAh Battery with 15W Fast Charging', '4780\\u2009mAh Battery with 30W Fast Charging', '5050\\u2009mAh Battery', '4500\\u2009mAh Battery with 68W Fast Charging', '4800\\u2009mAh Battery with 67W Fast Charging', '4325\\u2009mAh Battery with Fast Charging', '3200\\u2009mAh Battery with Fast Charging', '4200\\u2009mAh Battery with 120W Fast Charging', '2438\\u2009mAh Battery with Fast Charging', '4500\\u2009mAh Battery with 25W Fast Charging', '5000\\u2009mAh Battery with 67W Fast Charging', '5000\\u2009mAh Battery with Fast Charging', '5050\\u2009mAh Battery with 18W Fast Charging', '4200\\u2009mAh Battery with 67W Fast Charging', '5065\\u2009mAh Battery with 67W Fast Charging', '5080\\u2009mAh Battery with 67W Fast Charging', '4050\\u2009mAh Battery with 44W Fast Charging', '6000\\u2009mAh Battery with 80W Fast Charging', '5000\\u2009mAh Battery with 165W Fast Charging', '3900\\u2009mAh Battery with 25W Fast Charging', '7000\\u2009mAh Battery with Fast Charging', '4810\\u2009mAh Battery with 120W Fast Charging', '4200\\u2009mAh Battery with 66W Fast Charging', '4000\\u2009mAh Battery with Fast Charging', '3100\\u2009mAh Battery with 15W Fast Charging', '4020\\u2009mAh Battery with 33W Fast Charging', '4200\\u2009mAh Battery with 55W Fast Charging', '6000\\u2009mAh Battery with 15W Fast Charging', '4352\\u2009mAh Battery with Fast Charging', '4532\\u2009mAh Battery with Fast Charging', '4100\\u2009mAh Battery with 33W Fast Charging', '2050\\u2009mAh Battery with Fast Charging', '4000\\u2009mAh Battery with 33W Fast Charging', '3700\\u2009mAh Battery with 18W Fast Charging', '4300\\u2009mAh Battery with 120W Fast Charging', '21000\\u2009mAh Battery with 33W Fast Charging', '4400\\u2009mAh Battery with 68W Fast Charging', '5000\\u2009mAh Battery with 80W Fast Charging', '5000\\u2009mAh Battery with 19W Fast Charging', '5600\\u2009mAh Battery with 68W Fast Charging', '4000\\u2009mAh Battery', '4300\\u2009mAh Battery with Fast Charging', '8000\\u2009mAh Battery', '4410\\u2009mAh Battery with Fast Charging', '4000\\u2009mAh Battery with 30W Fast Charging', '3110\\u2009mAh Battery', '4800\\u2009mAh Battery with 150W Fast Charging', '3240\\u2009mAh Battery with Fast Charging', '4600\\u2009mAh Battery with 120W Fast Charging', '6000\\u2009mAh Battery with 45W Fast Charging', '4700\\u2009mAh Battery with 200W Fast Charging', '3300\\u2009mAh Battery', '5000\\u2009mAh Battery with 33W Fast Charging', '4614\\u2009mAh Battery with 30W Fast Charging', '6.1 inches, 750\\u2009x\\u20091580\\u2009px Display', '4500\\u2009mAh Battery with 50W Fast Charging', '4000\\u2009mAh Battery with 15W Fast Charging', '4015\\u2009mAh Battery with 30W Fast Charging', '3360\\u2009mAh Battery', '5020\\u2009mAh Battery with 18W Fast Charging', '4500\\u2009mAh Battery with 120W Fast Charging', '3200\\u2009mAh Battery', '4200\\u2009mAh Battery with 44W Fast Charging', '7000\\u2009mAh Battery with 33W Fast Charging', '3279\\u2009mAh Battery with Fast Charging', '4500\\u2009mAh Battery with 30W Fast Charging', '4200\\u2009mAh Battery with 65W Fast Charging', '4300\\u2009mAh Battery with 210W Fast Charging', '4200\\u2009mAh Battery with 40W Fast Charging', '3000\\u2009mAh Battery', '4830\\u2009mAh Battery with 66W Fast Charging', '4600\\u2009mAh Battery with 125W Fast Charging', '3400\\u2009mAh Battery with Fast Charging', '5000\\u2009mAh Battery with 20W Fast Charging', '4000\\u2009mAh Battery with 45W Fast Charging', '4000\\u2009mAh Battery with 21W Fast Charging', '6000\\u2009mAh Battery with 33W Fast Charging', '5000\\u2009mAh Battery with 44W Fast Charging', '4030\\u2009mAh Battery', '4500\\u2009mAh Battery with 150W Fast Charging', '9800\\u2009mAh Battery with 66W Fast Charging', '22000\\u2009mAh Battery with 33W Fast Charging', '5000\\u2009mAh Battery with 68W Fast Charging', '4300\\u2009mAh Battery with 44W Fast Charging', '4352\\u2009mAh Battery with 25W Fast Charging', '5000\\u2009mAh Battery with 45W Fast Charging', '3700\\u2009mAh Battery with Fast Charging', '5200\\u2009mAh Battery with 33W Fast Charging', '4500\\u2009mAh Battery with 33W Fast Charging', '4500\\u2009mAh Battery with 45W Fast Charging', '4500\\u2009mAh Battery with 18W Fast Charging', '4700\\u2009mAh Battery with Fast Charging', '5200\\u2009mAh Battery with 210W Fast Charging', '4230\\u2009mAh Battery', '3060\\u2009mAh Battery with Fast Charging', '4800\\u2009mAh Battery with 66W Fast Charging', '4800\\u2009mAh Battery with 25W Fast Charging', '4700\\u2009mAh Battery with 66W Fast Charging', '5050\\u2009mAh Battery with 30W Fast Charging', '4700\\u2009mAh Battery with 45W Fast Charging', '6.06 inches, 1170\\u2009x\\u20092532\\u2009px, 120 Hz Display with Punch Hole', '5000\\u2009mAh Battery with 15W Fast Charging', '4000\\u2009mAh Battery with 10W Fast Charging', '4500\\u2009mAh Battery with 80W Fast Charging', '7000\\u2009mAh Battery', '5050\\u2009mAh Battery with 10W Fast Charging', '4500\\u2009mAh Battery with 67W Fast Charging', '4400\\u2009mAh Battery with 66W Fast Charging', '4500\\u2009mAh Battery with 60W Fast Charging', '6000\\u2009mAh Battery with 20W Fast Charging', '4450\\u2009mAh Battery', '5020\\u2009mAh Battery with 33W Fast Charging', '4300\\u2009mAh Battery with 66W Fast Charging']\n",
      "========================================================================================================================\n"
     ]
    }
   ],
   "source": [
    "valores_columna(data_df,\"battery\")"
   ]
  },
  {
   "cell_type": "code",
   "execution_count": 48,
   "id": "510e8d9c-985a-4ca8-a3b3-94652db24997",
   "metadata": {},
   "outputs": [],
   "source": [
    "# Reemplazamos el caracter '\\u2009' en las columnas del dataframe\n",
    "data_df=reemplazar_caracteres(data_df,\"battery\",\"\\u2009\",\" \")"
   ]
  },
  {
   "cell_type": "code",
   "execution_count": 49,
   "id": "f1371396-3e44-47be-9589-4638949d33c6",
   "metadata": {},
   "outputs": [],
   "source": [
    "from pyspark.sql.functions import when, col\n",
    "from pyspark.sql.functions import split\n",
    "\n",
    "# Crear la nueva columna \"carga_rapida\" basada en si la columna \"battery\" contiene la palabra \"Fast Charging\"\n",
    "data_df = data_df.withColumn(\"carga_rapida\", when(col(\"battery\").rlike(\"Fast Charging\"), True).otherwise(False))\n",
    "\n",
    "# Aplicamos la función split para dividir la columna 'battery' por un espacio y extraer el primer segmento\n",
    "data_df = data_df.withColumn(\"battery\", split(data_df[\"battery\"], \" \").getItem(0))\n",
    "\n",
    "# Filtramos las columnas con '.'\n",
    "data_df = eliminar_valores_con_condicion(data_df, \"battery\",\".\")\n",
    "\n",
    "# Transformamos la columna a tipo entero\n",
    "data_df=transformar_entero(data_df,\"battery\")"
   ]
  },
  {
   "cell_type": "markdown",
   "id": "633c071c-9ee1-4c32-a22e-ccb833d9bbc8",
   "metadata": {},
   "source": [
    "#### Columna 'card'"
   ]
  },
  {
   "cell_type": "code",
   "execution_count": 50,
   "id": "9ecbfc4d-441a-4bc6-be28-0778b81d7549",
   "metadata": {},
   "outputs": [
    {
     "name": "stdout",
     "output_type": "stream",
     "text": [
      "========================================================================================================================\n",
      "Número de valores distintos: 32\n",
      "========================================================================================================================\n",
      "Valores distintos: ['12\\u2009MP + 12\\u2009MP Dual Rear & 10\\u2009MP Front Camera', 'Memory Card Supported, upto 128\\u2009GB', 'Memory Card (Hybrid), upto 512\\u2009GB', '64\\u2009MP + 16\\u2009MP + 8\\u2009MP Triple Rear & 32\\u2009MP Front Camera', 'HarmonyOS v2.0', 'Memory Card Not Supported', 'Memory Card Supported, upto 1\\u2009TB', '64\\u2009MP + 20\\u2009MP + 2\\u2009MP Triple Rear & Main Front Camera', 'iOS v13', 'Android v11', 'Memory Card (Hybrid), upto 2\\u2009TB', 'Android v9.0 (Pie)', 'Android v12', 'Android v10.0', '64\\u2009MP + 16\\u2009MP + 12\\u2009MP Triple Rear & 16\\u2009MP Front Camera', 'Android v10', '50\\u2009MP + 13\\u2009MP + 8\\u2009MP Triple Rear & 10.7\\u2009MP Front Camera', 'Memory Card (Hybrid), upto 64\\u2009GB', '64\\u2009MP + 13\\u2009MP + 12\\u2009MP Triple Rear & 32\\u2009MP Front Camera', 'Memory Card Supported, upto 256\\u2009GB', '12\\u2009MP + 12\\u2009MP + 12\\u2009MP Triple Rear & 10\\u2009MP + 4\\u2009MP Dual Front Camera', 'Memory Card Supported, upto 1000\\u2009GB', 'Memory Card (Hybrid), upto 128\\u2009GB', 'Memory Card (Hybrid), upto 1\\u2009TB', 'HarmonyOS', 'Memory Card Supported', '50\\u2009MP + 8\\u2009MP Dual Rear & 32\\u2009MP Front Camera', 'Memory Card Supported, upto 512\\u2009GB', 'Memory Card (Hybrid)', 'Android v13', 'Memory Card Supported, upto 2\\u2009TB', 'Memory Card (Hybrid), upto 256\\u2009GB']\n",
      "========================================================================================================================\n"
     ]
    }
   ],
   "source": [
    "valores_columna(data_df,\"card\")"
   ]
  },
  {
   "cell_type": "code",
   "execution_count": 51,
   "id": "e3211e96-dc93-49b8-9de1-778439719d9a",
   "metadata": {},
   "outputs": [],
   "source": [
    "data_df=reemplazar_caracteres(data_df,\"card\",\"\\u2009\",\" \")"
   ]
  },
  {
   "cell_type": "code",
   "execution_count": 52,
   "id": "048d404a-7346-40ab-bf15-866ce2533d41",
   "metadata": {},
   "outputs": [],
   "source": [
    "data_df=reemplazar_si_no_contiene(data_df,\"card\",\"Memory Card\")"
   ]
  },
  {
   "cell_type": "code",
   "execution_count": 53,
   "id": "b1fb43ef-262e-42df-bb14-d24be7b42a1a",
   "metadata": {},
   "outputs": [],
   "source": [
    "# Extraemos la cantidad de almacenamiento de la columna 'card'\n",
    "data_df=extraer_numeros(data_df,\"card\",\"almacenamiento\")\n",
    "\n",
    "# Transformamos la columna a tipo entero\n",
    "data_df=transformar_entero(data_df,\"almacenamiento\")\n",
    "\n",
    "# Ree,plazamos los valores nulos de la columna\n",
    "data_df=reemplazar_nulos(data_df,\"almacenamiento\",\"0\")"
   ]
  },
  {
   "cell_type": "code",
   "execution_count": 54,
   "id": "18312e6c-07c3-4f22-b4fd-3a503df93550",
   "metadata": {},
   "outputs": [
    {
     "name": "stdout",
     "output_type": "stream",
     "text": [
      "========================================================================================================================\n",
      "Número de valores distintos: 8\n",
      "========================================================================================================================\n",
      "Valores distintos: [128, 512, 1, 64, 1000, 256, 2, 0]\n",
      "========================================================================================================================\n"
     ]
    }
   ],
   "source": [
    "valores_columna(data_df,\"almacenamiento\")"
   ]
  },
  {
   "cell_type": "code",
   "execution_count": 55,
   "id": "2c31c1ea-6a00-4067-9af3-dd3c064f7654",
   "metadata": {},
   "outputs": [
    {
     "name": "stdout",
     "output_type": "stream",
     "text": [
      "+--------------+-----+\n",
      "|almacenamiento|count|\n",
      "+--------------+-----+\n",
      "|           128|    5|\n",
      "|           512|  111|\n",
      "|            64|    2|\n",
      "|          1000|  250|\n",
      "|           256|   91|\n",
      "|          2000|    6|\n",
      "|             0|  404|\n",
      "+--------------+-----+\n",
      "\n"
     ]
    }
   ],
   "source": [
    "data_df=multiplicar_por_1000_si_menor(data_df,\"almacenamiento\")\n",
    "conteo_valores(data_df,\"almacenamiento\")"
   ]
  },
  {
   "cell_type": "code",
   "execution_count": 56,
   "id": "fd434293-dc6e-4d6b-8d70-7645afa28b37",
   "metadata": {},
   "outputs": [],
   "source": [
    "# Creamos una columna nueva que indique si el valor de la columna 'card' contiene alguno de los patrones especificados\n",
    "data_df = data_df.withColumn(\"Memory Card\", col(\"card\").rlike(\"Memory Card\"))"
   ]
  },
  {
   "cell_type": "code",
   "execution_count": 57,
   "id": "c6714371-164c-4120-aece-a77ac453d250",
   "metadata": {},
   "outputs": [
    {
     "name": "stdout",
     "output_type": "stream",
     "text": [
      "========================================================================================================================\n",
      "Número de valores distintos: 2\n",
      "========================================================================================================================\n",
      "Valores distintos: [True, False]\n",
      "========================================================================================================================\n",
      "+-----------+-----+\n",
      "|Memory Card|count|\n",
      "+-----------+-----+\n",
      "|       true|  678|\n",
      "|      false|  191|\n",
      "+-----------+-----+\n",
      "\n"
     ]
    }
   ],
   "source": [
    "valores_columna(data_df,\"Memory Card\")\n",
    "conteo_valores(data_df,\"Memory Card\")"
   ]
  },
  {
   "cell_type": "code",
   "execution_count": 58,
   "id": "352656a4-01a4-4804-8f8e-628d78e27157",
   "metadata": {},
   "outputs": [],
   "source": [
    "not_supported=\"Not Supported\"\n",
    "supported=\"Memory Card Supported\"\n",
    "supported_=\"Supported\"\n",
    "hybrid=\"Hybrid\"\n",
    "data_df=reemplazar_si_contiene(data_df,\"card\",not_supported,not_supported)\n",
    "data_df=reemplazar_si_contiene(data_df,\"card\",supported,supported_)\n",
    "data_df=reemplazar_si_contiene(data_df,\"card\",hybrid,hybrid)"
   ]
  },
  {
   "cell_type": "code",
   "execution_count": 59,
   "id": "e372f09e-5a2a-49a0-96cb-6c419449e782",
   "metadata": {},
   "outputs": [
    {
     "name": "stdout",
     "output_type": "stream",
     "text": [
      "========================================================================================================================\n",
      "Número de valores distintos: 4\n",
      "========================================================================================================================\n",
      "Valores distintos: ['Supported', 'Hybrid', '-', 'Not Supported']\n",
      "========================================================================================================================\n",
      "+-------------+-----+\n",
      "|         card|count|\n",
      "+-------------+-----+\n",
      "|    Supported|  433|\n",
      "|       Hybrid|  138|\n",
      "|            -|  191|\n",
      "|Not Supported|  107|\n",
      "+-------------+-----+\n",
      "\n"
     ]
    }
   ],
   "source": [
    "valores_columna(data_df,\"card\")\n",
    "conteo_valores(data_df,\"card\")"
   ]
  },
  {
   "cell_type": "code",
   "execution_count": 60,
   "id": "ddc48f97-2847-406e-8822-2fd346f2094e",
   "metadata": {},
   "outputs": [
    {
     "name": "stdout",
     "output_type": "stream",
     "text": [
      "+--------------------+------+------+--------+--------------------+--------------------+-------+-------------+-----------+-----+-----+------------+--------------+-----------+\n",
      "|               model| price|rating|     sim|           processor|                 ram|battery|         card|         os|   5G|  NFC|carga_rapida|almacenamiento|Memory Card|\n",
      "+--------------------+------+------+--------+--------------------+--------------------+-------+-------------+-----------+-----+-----+------------+--------------+-----------+\n",
      "|       OnePlus 11 5G|657.59|    89|Dual Sim|   Snapdragon 8 Gen2|12 GB RAM, 256 GB...|   5000|Not Supported|Android v13| true| true|        true|             0|       true|\n",
      "|OnePlus Nord CE 2...| 239.0|    81|Dual Sim|      Snapdragon 695|6 GB RAM, 128 GB ...|   5000|       Hybrid|Android v12| true|false|        true|          1000|       true|\n",
      "|Samsung Galaxy A1...|197.27|    75|Dual Sim|         Exynos 1330|4 GB RAM, 64 GB i...|   5000|    Supported|Android v13| true|false|        true|          1000|       true|\n",
      "|Motorola Moto G62 5G|179.33|    81|Dual Sim|     Snapdragon  695|6 GB RAM, 128 GB ...|   5000|       Hybrid|Android v12| true|false|        true|          1000|       true|\n",
      "|  Realme 10 Pro Plus| 298.9|    82|Dual Sim|      Dimensity 1080|6 GB RAM, 128 GB ...|   5000|Not Supported|Android v13| true|false|        true|             0|       true|\n",
      "|Samsung Galaxy F2...|203.25|    80|Dual Sim|    Snapdragon  750G|6 GB RAM, 128 GB ...|   5000|    Supported|Android v12| true| true|        true|          1000|       true|\n",
      "|     Apple iPhone 14|789.11|    81|Dual Sim|          Bionic A15|6 GB RAM, 128 GB ...|   3279|Not Supported|    iOS v16| true| true|        true|             0|       true|\n",
      "|Xiaomi Redmi Note...|358.68|    86|Dual Sim|      Dimensity 1080|8 GB RAM, 256 GB ...|   4980|Not Supported|Android v12| true|false|        true|             0|       true|\n",
      "|     Nothing Phone 1|319.82|    85|Dual Sim|Snapdragon 778G Plus|8 GB RAM, 128 GB ...|   4500|            -|No FM Radio| true| true|        true|             0|      false|\n",
      "|  OnePlus Nord 2T 5G|346.72|    84|Dual Sim|     Dimensity  1300|8 GB RAM, 128 GB ...|   4500|            -|No FM Radio| true| true|        true|             0|      false|\n",
      "|       Realme 10 Pro|227.16|    82|Dual Sim|      Snapdragon 695|6 GB RAM, 128 GB ...|   5000|    Supported|Android v13| true|false|        true|          1000|       true|\n",
      "|            Oppo A78|227.16|    79|Dual Sim|    Dimensity 700 5G|8 GB RAM, 128 GB ...|   5000|    Supported|Android v12| true| true|        true|             0|       true|\n",
      "|Xiaomi Redmi Note...|296.06|    79|Dual Sim|      Dimensity 1080|6 GB RAM, 128 GB ...|   5000|            -|No FM Radio| true|false|        true|             0|      false|\n",
      "|Vivo T1 5G (6GB R...|203.14|    80|Dual Sim|     Snapdragon  695|6 GB RAM, 128 GB ...|   5000|       Hybrid|Android v12| true|false|        true|          1000|       true|\n",
      "|     Apple iPhone 13|753.24|    79|Dual Sim|          Bionic A15|4 GB RAM, 128 GB ...|   3240|Not Supported|    iOS v15| true| true|        true|             0|       true|\n",
      "|            Vivo Y16|119.55|    65|Dual Sim|           Helio P35|3 GB RAM, 32 GB i...|   5000|    Supported|Android v12|false|false|        true|             0|       true|\n",
      "|OPPO Reno 9 Pro Plus|549.98|    86|Dual Sim|  Snapdragon 8+ Gen1|16 GB RAM, 256 GB...|   4700|            -|No FM Radio| true| true|        true|             0|      false|\n",
      "|      OnePlus 10R 5G|394.55|    86|Dual Sim|  Dimensity 8100 Max|8 GB RAM, 128 GB ...|   5000|            -|  Bluetooth| true| true|        true|             0|      false|\n",
      "|            Vivo Y22|173.36|    72|Dual Sim|           Helio G70|4 GB RAM, 64 GB i...|   5000|    Supported|Android v12|false|false|        true|          1000|       true|\n",
      "|         OnePlus 11R|478.24|    85|Dual Sim| Snapdragon  8+ Gen1|8 GB RAM, 128 GB ...|   5000|            -|  Bluetooth| true| true|        true|             0|      false|\n",
      "+--------------------+------+------+--------+--------------------+--------------------+-------+-------------+-----------+-----+-----+------------+--------------+-----------+\n",
      "only showing top 20 rows\n",
      "\n"
     ]
    }
   ],
   "source": [
    "data_df.show()"
   ]
  },
  {
   "cell_type": "markdown",
   "id": "b9d3f205-382a-48c9-a275-abc4e174012b",
   "metadata": {},
   "source": [
    "#### Columna 'ram'"
   ]
  },
  {
   "cell_type": "code",
   "execution_count": 61,
   "id": "dc6cc56e-e13a-476c-94ed-b232031ccd5d",
   "metadata": {},
   "outputs": [
    {
     "name": "stdout",
     "output_type": "stream",
     "text": [
      "========================================================================================================================\n",
      "Número de valores distintos: 25\n",
      "========================================================================================================================\n",
      "Valores distintos: ['18\\u2009GB RAM, 256\\u2009GB inbuilt', '6\\u2009GB RAM, 128\\u2009GB inbuilt', '4\\u2009GB RAM, 64\\u2009GB inbuilt', '4\\u2009GB RAM, 32\\u2009GB inbuilt', '2\\u2009GB RAM, 64\\u2009GB inbuilt', '4\\u2009GB RAM, 128\\u2009GB inbuilt', '12\\u2009GB RAM, 128\\u2009GB inbuilt', '18\\u2009GB RAM, 512\\u2009GB inbuilt', '3\\u2009GB RAM, 32\\u2009GB inbuilt', '8\\u2009GB RAM, 128\\u2009GB inbuilt', '16\\u2009GB RAM, 256\\u2009GB inbuilt', '4\\u2009GB RAM, 512\\u2009GB inbuilt', '8\\u2009GB RAM, 256\\u2009GB inbuilt', '6\\u2009GB RAM, 512\\u2009GB inbuilt', '12\\u2009GB RAM, 512\\u2009GB inbuilt', '6\\u2009GB RAM, 256\\u2009GB inbuilt', '8\\u2009GB RAM, 512\\u2009GB inbuilt', '2\\u2009GB RAM, 32\\u2009GB inbuilt', '4\\u2009GB RAM, 256\\u2009GB inbuilt', '3\\u2009GB RAM, 64\\u2009GB inbuilt', '12\\u2009GB RAM, 256\\u2009GB inbuilt', '512\\u2009GB inbuilt', '6\\u2009GB RAM, 1\\u2009TB inbuilt', '6\\u2009GB RAM, 64\\u2009GB inbuilt', '16\\u2009GB RAM, 512\\u2009GB inbuilt']\n",
      "========================================================================================================================\n"
     ]
    }
   ],
   "source": [
    "valores_columna(data_df,\"ram\")"
   ]
  },
  {
   "cell_type": "code",
   "execution_count": 62,
   "id": "acce1513-c6ba-4ec0-9c64-4ce9dce91cc7",
   "metadata": {},
   "outputs": [],
   "source": [
    "data_df=reemplazar_caracteres(data_df,\"ram\",\"\\u2009\",\" \")"
   ]
  },
  {
   "cell_type": "code",
   "execution_count": 63,
   "id": "116bf94f-4599-41d9-bb05-17d1f092b654",
   "metadata": {},
   "outputs": [
    {
     "name": "stdout",
     "output_type": "stream",
     "text": [
      "+--------------------+-----+-----+\n",
      "|                 ram|ram_1|ram_2|\n",
      "+--------------------+-----+-----+\n",
      "|12 GB RAM, 256 GB...|   12|  256|\n",
      "|6 GB RAM, 128 GB ...|    6|  128|\n",
      "|4 GB RAM, 64 GB i...|    4|   64|\n",
      "|6 GB RAM, 128 GB ...|    6|  128|\n",
      "|6 GB RAM, 128 GB ...|    6|  128|\n",
      "|6 GB RAM, 128 GB ...|    6|  128|\n",
      "|6 GB RAM, 128 GB ...|    6|  128|\n",
      "|8 GB RAM, 256 GB ...|    8|  256|\n",
      "|8 GB RAM, 128 GB ...|    8|  128|\n",
      "|8 GB RAM, 128 GB ...|    8|  128|\n",
      "|6 GB RAM, 128 GB ...|    6|  128|\n",
      "|8 GB RAM, 128 GB ...|    8|  128|\n",
      "|6 GB RAM, 128 GB ...|    6|  128|\n",
      "|6 GB RAM, 128 GB ...|    6|  128|\n",
      "|4 GB RAM, 128 GB ...|    4|  128|\n",
      "|3 GB RAM, 32 GB i...|    3|   32|\n",
      "|16 GB RAM, 256 GB...|   16|  256|\n",
      "|8 GB RAM, 128 GB ...|    8|  128|\n",
      "|4 GB RAM, 64 GB i...|    4|   64|\n",
      "|8 GB RAM, 128 GB ...|    8|  128|\n",
      "+--------------------+-----+-----+\n",
      "only showing top 20 rows\n",
      "\n"
     ]
    }
   ],
   "source": [
    "data_df = split_columna(data_df, \"ram\")\n",
    "data_df=extraer_numeros(data_df,\"ram_1\",\"ram_1\")\n",
    "data_df=extraer_numeros(data_df,\"ram_2\",\"ram_2\")\n",
    "# Mostrar el DataFrame resultante\n",
    "data_df.select([\"ram\",\"ram_1\",\"ram_2\"]).show()"
   ]
  },
  {
   "cell_type": "code",
   "execution_count": 64,
   "id": "8456e131-1a88-47e7-a177-e782a0f9c925",
   "metadata": {},
   "outputs": [
    {
     "name": "stdout",
     "output_type": "stream",
     "text": [
      "========================================================================================================================\n",
      "Cantidad de registros: 869 (ochocientos sesenta y nueve)\n",
      "Cantidad de columnas: 15 (quince)\n",
      "========================================================================================================================\n",
      "Tipos de datos\n",
      "\n",
      "root\n",
      " |-- model: string (nullable = true)\n",
      " |-- price: double (nullable = true)\n",
      " |-- rating: integer (nullable = true)\n",
      " |-- sim: string (nullable = true)\n",
      " |-- processor: string (nullable = true)\n",
      " |-- battery: integer (nullable = true)\n",
      " |-- card: string (nullable = true)\n",
      " |-- os: string (nullable = true)\n",
      " |-- 5G: boolean (nullable = false)\n",
      " |-- NFC: boolean (nullable = false)\n",
      " |-- carga_rapida: boolean (nullable = false)\n",
      " |-- almacenamiento: integer (nullable = true)\n",
      " |-- Memory Card: boolean (nullable = true)\n",
      " |-- ram_1: string (nullable = true)\n",
      " |-- ram_2: string (nullable = true)\n",
      "\n",
      "========================================================================================================================\n",
      "Recuento de nulos\n",
      "\n",
      "Cantidad de valores nulos por columna: \n",
      "-RECORD 0-------------\n",
      " model          | 0   \n",
      " price          | 0   \n",
      " rating         | 0   \n",
      " sim            | 0   \n",
      " processor      | 0   \n",
      " battery        | 0   \n",
      " card           | 0   \n",
      " os             | 0   \n",
      " 5G             | 0   \n",
      " NFC            | 0   \n",
      " carga_rapida   | 0   \n",
      " almacenamiento | 0   \n",
      " Memory Card    | 0   \n",
      " ram_1          | 0   \n",
      " ram_2          | 1   \n",
      "\n",
      "========================================================================================================================\n",
      "Cantidad de filas duplicadas en el DataFrame: 0.\n",
      "========================================================================================================================\n"
     ]
    }
   ],
   "source": [
    "data_df=eliminar_columna(data_df,\"ram\")\n",
    "# Mostrar el DataFrame resultante\n",
    "descripcion_df(data_df)"
   ]
  },
  {
   "cell_type": "code",
   "execution_count": 65,
   "id": "643c45ed-a72e-4e60-8cf7-8eae6d1f701f",
   "metadata": {},
   "outputs": [
    {
     "name": "stdout",
     "output_type": "stream",
     "text": [
      "========================================================================================================================\n",
      "Cantidad de registros: 869 (ochocientos sesenta y nueve)\n",
      "Cantidad de columnas: 15 (quince)\n",
      "========================================================================================================================\n",
      "Tipos de datos\n",
      "\n",
      "root\n",
      " |-- model: string (nullable = true)\n",
      " |-- price: double (nullable = true)\n",
      " |-- rating: integer (nullable = true)\n",
      " |-- sim: string (nullable = true)\n",
      " |-- processor: string (nullable = true)\n",
      " |-- battery: integer (nullable = true)\n",
      " |-- card: string (nullable = true)\n",
      " |-- os: string (nullable = true)\n",
      " |-- 5G: boolean (nullable = false)\n",
      " |-- NFC: boolean (nullable = false)\n",
      " |-- carga_rapida: boolean (nullable = false)\n",
      " |-- almacenamiento: integer (nullable = true)\n",
      " |-- Memory Card: boolean (nullable = true)\n",
      " |-- ram: string (nullable = true)\n",
      " |-- rom: string (nullable = true)\n",
      "\n",
      "========================================================================================================================\n",
      "Recuento de nulos\n",
      "\n",
      "Cantidad de valores nulos por columna: \n",
      "-RECORD 0-------------\n",
      " model          | 0   \n",
      " price          | 0   \n",
      " rating         | 0   \n",
      " sim            | 0   \n",
      " processor      | 0   \n",
      " battery        | 0   \n",
      " card           | 0   \n",
      " os             | 0   \n",
      " 5G             | 0   \n",
      " NFC            | 0   \n",
      " carga_rapida   | 0   \n",
      " almacenamiento | 0   \n",
      " Memory Card    | 0   \n",
      " ram            | 0   \n",
      " rom            | 1   \n",
      "\n",
      "========================================================================================================================\n",
      "Cantidad de filas duplicadas en el DataFrame: 0.\n",
      "========================================================================================================================\n"
     ]
    }
   ],
   "source": [
    "# Cambiar el nombre de la columna\n",
    "data_df = data_df.withColumnRenamed(\"ram_1\", \"ram\")\n",
    "data_df = data_df.withColumnRenamed(\"ram_2\", \"rom\")\n",
    "# Mostrar el DataFrame resultante\n",
    "descripcion_df(data_df)       "
   ]
  },
  {
   "cell_type": "markdown",
   "id": "3cbcd5b8-f9e4-4038-b313-4877ac9a75a9",
   "metadata": {},
   "source": [
    "#### Columna 'os'"
   ]
  },
  {
   "cell_type": "code",
   "execution_count": 66,
   "id": "c43385ab-5533-429d-b8c1-d9b3d7646a5e",
   "metadata": {},
   "outputs": [
    {
     "name": "stdout",
     "output_type": "stream",
     "text": [
      "========================================================================================================================\n",
      "Número de valores distintos: 32\n",
      "========================================================================================================================\n",
      "Valores distintos: ['iOS v15.0', 'iOS v15', 'iOS v12.3', 'Android v6.0 (Marshmallow)', 'No FM Radio', 'Android v4.4.2 (KitKat)', 'Hongmeng OS v3.0', 'Memory Card Not Supported', 'Android v11.0', 'iOS v13', 'Android v8.1 (Oreo)', 'Android v11', 'Memory Card (Hybrid), upto 2\\u2009TB', 'Android v9.0 (Pie)', 'Android v12', 'Android v10.0', 'Android v10', 'Bluetooth', 'iOS v16', 'Memory Card Supported, upto 256\\u2009GB', 'Android v5.1.1 (Lollipop)', 'Harmony v2.0', 'Hongmeng OS v4.0', 'iOS v13.0', 'Android v8.0 (Oreo)', 'EMUI v12', 'Android', 'Android v7.1 (Nougat)', 'Memory Card (Hybrid)', 'Android v13', 'Memory Card (Hybrid), upto 256\\u2009GB', 'iOS v17']\n",
      "========================================================================================================================\n"
     ]
    }
   ],
   "source": [
    "valores_columna(data_df,\"os\")"
   ]
  },
  {
   "cell_type": "code",
   "execution_count": 67,
   "id": "aaed1d78-5ec9-41d5-81a6-2b8af46790c4",
   "metadata": {},
   "outputs": [],
   "source": [
    "data_df=reemplazar_caracteres(data_df,\"os\",\"\\u2009\",\" \")"
   ]
  },
  {
   "cell_type": "code",
   "execution_count": 68,
   "id": "63eab5e6-9d42-471b-961a-30e622004546",
   "metadata": {},
   "outputs": [],
   "source": [
    "data_df = reemplazar_si_no_contiene_lista(data_df, \"os\", [\"Android\", \"OS\",\"EMUI\",\"Harmony\"])"
   ]
  },
  {
   "cell_type": "code",
   "execution_count": 69,
   "id": "44d3e7a2-a353-4d95-b475-7922c519e83c",
   "metadata": {},
   "outputs": [
    {
     "name": "stdout",
     "output_type": "stream",
     "text": [
      "========================================================================================================================\n",
      "Número de valores distintos: 26\n",
      "========================================================================================================================\n",
      "Valores distintos: ['iOS v15.0', 'iOS v15', 'iOS v12.3', 'Android v6.0 (Marshmallow)', 'Android v4.4.2 (KitKat)', 'Hongmeng OS v3.0', 'Android v11.0', 'iOS v13', 'Android v8.1 (Oreo)', 'Android v11', 'Android v9.0 (Pie)', 'Android v12', '-', 'Android v10.0', 'Android v10', 'iOS v16', 'Android v5.1.1 (Lollipop)', 'Harmony v2.0', 'Hongmeng OS v4.0', 'iOS v13.0', 'Android v8.0 (Oreo)', 'EMUI v12', 'Android', 'Android v7.1 (Nougat)', 'Android v13', 'iOS v17']\n",
      "========================================================================================================================\n",
      "+--------------------+-----+\n",
      "|                  os|count|\n",
      "+--------------------+-----+\n",
      "|           iOS v15.0|    3|\n",
      "|             iOS v15|   10|\n",
      "|           iOS v12.3|    1|\n",
      "|Android v6.0 (Mar...|    1|\n",
      "|Android v4.4.2 (K...|    1|\n",
      "|    Hongmeng OS v3.0|    1|\n",
      "|       Android v11.0|    3|\n",
      "|             iOS v13|    3|\n",
      "| Android v8.1 (Oreo)|    6|\n",
      "|         Android v11|  224|\n",
      "|  Android v9.0 (Pie)|   25|\n",
      "|         Android v12|  264|\n",
      "|                   -|  189|\n",
      "|       Android v10.0|   20|\n",
      "|         Android v10|   49|\n",
      "|             iOS v16|   14|\n",
      "|Android v5.1.1 (L...|    1|\n",
      "|        Harmony v2.0|    1|\n",
      "|    Hongmeng OS v4.0|    1|\n",
      "|           iOS v13.0|    1|\n",
      "+--------------------+-----+\n",
      "only showing top 20 rows\n",
      "\n"
     ]
    }
   ],
   "source": [
    "valores_columna(data_df,\"os\")\n",
    "conteo_valores(data_df,\"os\")"
   ]
  },
  {
   "cell_type": "code",
   "execution_count": 70,
   "id": "6f0aa154-9004-41e6-bccc-a669ab047ea3",
   "metadata": {},
   "outputs": [
    {
     "name": "stdout",
     "output_type": "stream",
     "text": [
      "+--------------------+------+------+--------+--------------------+-------+-------------+-----------+-----+-----+------------+--------------+-----------+---+---+\n",
      "|               model| price|rating|     sim|           processor|battery|         card|         os|   5G|  NFC|carga_rapida|almacenamiento|Memory Card|ram|rom|\n",
      "+--------------------+------+------+--------+--------------------+-------+-------------+-----------+-----+-----+------------+--------------+-----------+---+---+\n",
      "|       OnePlus 11 5G|657.59|    89|Dual Sim|   Snapdragon 8 Gen2|   5000|Not Supported|Android v13| true| true|        true|             0|       true| 12|256|\n",
      "|OnePlus Nord CE 2...| 239.0|    81|Dual Sim|      Snapdragon 695|   5000|       Hybrid|Android v12| true|false|        true|          1000|       true|  6|128|\n",
      "|Samsung Galaxy A1...|197.27|    75|Dual Sim|         Exynos 1330|   5000|    Supported|Android v13| true|false|        true|          1000|       true|  4| 64|\n",
      "|Motorola Moto G62 5G|179.33|    81|Dual Sim|     Snapdragon  695|   5000|       Hybrid|Android v12| true|false|        true|          1000|       true|  6|128|\n",
      "|  Realme 10 Pro Plus| 298.9|    82|Dual Sim|      Dimensity 1080|   5000|Not Supported|Android v13| true|false|        true|             0|       true|  6|128|\n",
      "|Samsung Galaxy F2...|203.25|    80|Dual Sim|    Snapdragon  750G|   5000|    Supported|Android v12| true| true|        true|          1000|       true|  6|128|\n",
      "|     Apple iPhone 14|789.11|    81|Dual Sim|          Bionic A15|   3279|Not Supported|    iOS v16| true| true|        true|             0|       true|  6|128|\n",
      "|Xiaomi Redmi Note...|358.68|    86|Dual Sim|      Dimensity 1080|   4980|Not Supported|Android v12| true|false|        true|             0|       true|  8|256|\n",
      "|     Nothing Phone 1|319.82|    85|Dual Sim|Snapdragon 778G Plus|   4500|            -|          -| true| true|        true|             0|      false|  8|128|\n",
      "|  OnePlus Nord 2T 5G|346.72|    84|Dual Sim|     Dimensity  1300|   4500|            -|          -| true| true|        true|             0|      false|  8|128|\n",
      "|       Realme 10 Pro|227.16|    82|Dual Sim|      Snapdragon 695|   5000|    Supported|Android v13| true|false|        true|          1000|       true|  6|128|\n",
      "|            Oppo A78|227.16|    79|Dual Sim|    Dimensity 700 5G|   5000|    Supported|Android v12| true| true|        true|             0|       true|  8|128|\n",
      "|Xiaomi Redmi Note...|296.06|    79|Dual Sim|      Dimensity 1080|   5000|            -|          -| true|false|        true|             0|      false|  6|128|\n",
      "|Vivo T1 5G (6GB R...|203.14|    80|Dual Sim|     Snapdragon  695|   5000|       Hybrid|Android v12| true|false|        true|          1000|       true|  6|128|\n",
      "|     Apple iPhone 13|753.24|    79|Dual Sim|          Bionic A15|   3240|Not Supported|    iOS v15| true| true|        true|             0|       true|  4|128|\n",
      "|            Vivo Y16|119.55|    65|Dual Sim|           Helio P35|   5000|    Supported|Android v12|false|false|        true|             0|       true|  3| 32|\n",
      "|OPPO Reno 9 Pro Plus|549.98|    86|Dual Sim|  Snapdragon 8+ Gen1|   4700|            -|          -| true| true|        true|             0|      false| 16|256|\n",
      "|      OnePlus 10R 5G|394.55|    86|Dual Sim|  Dimensity 8100 Max|   5000|            -|          -| true| true|        true|             0|      false|  8|128|\n",
      "|            Vivo Y22|173.36|    72|Dual Sim|           Helio G70|   5000|    Supported|Android v12|false|false|        true|          1000|       true|  4| 64|\n",
      "|         OnePlus 11R|478.24|    85|Dual Sim| Snapdragon  8+ Gen1|   5000|            -|          -| true| true|        true|             0|      false|  8|128|\n",
      "+--------------------+------+------+--------+--------------------+-------+-------------+-----------+-----+-----+------------+--------------+-----------+---+---+\n",
      "only showing top 20 rows\n",
      "\n"
     ]
    }
   ],
   "source": [
    "data_df.show()"
   ]
  },
  {
   "cell_type": "code",
   "execution_count": 74,
   "id": "a8cd471b-4e17-42a4-8e8c-025ea00025ad",
   "metadata": {},
   "outputs": [],
   "source": [
    "nombres={\"model\":\"modelo\",\"price\":\"precio\",\"processor\":\"procesador\",\"battery\":\"bateria\",\"card\":\"memoria\"}\n",
    "dr=renombrar_columnas(data_df,nombres)"
   ]
  },
  {
   "cell_type": "code",
   "execution_count": 75,
   "id": "05c05d31-8c2a-40ee-ba54-811d0fd359f7",
   "metadata": {},
   "outputs": [
    {
     "name": "stdout",
     "output_type": "stream",
     "text": [
      "+--------------------+------+------+--------+--------------------+-------+-------------+-----------+-----+-----+------------+--------------+-----------+---+---+\n",
      "|              modelo|precio|rating|     sim|          procesador|bateria|      memoria|         os|   5G|  NFC|carga_rapida|almacenamiento|Memory Card|ram|rom|\n",
      "+--------------------+------+------+--------+--------------------+-------+-------------+-----------+-----+-----+------------+--------------+-----------+---+---+\n",
      "|       OnePlus 11 5G|657.59|    89|Dual Sim|   Snapdragon 8 Gen2|   5000|Not Supported|Android v13| true| true|        true|             0|       true| 12|256|\n",
      "|OnePlus Nord CE 2...| 239.0|    81|Dual Sim|      Snapdragon 695|   5000|       Hybrid|Android v12| true|false|        true|          1000|       true|  6|128|\n",
      "|Samsung Galaxy A1...|197.27|    75|Dual Sim|         Exynos 1330|   5000|    Supported|Android v13| true|false|        true|          1000|       true|  4| 64|\n",
      "|Motorola Moto G62 5G|179.33|    81|Dual Sim|     Snapdragon  695|   5000|       Hybrid|Android v12| true|false|        true|          1000|       true|  6|128|\n",
      "|  Realme 10 Pro Plus| 298.9|    82|Dual Sim|      Dimensity 1080|   5000|Not Supported|Android v13| true|false|        true|             0|       true|  6|128|\n",
      "|Samsung Galaxy F2...|203.25|    80|Dual Sim|    Snapdragon  750G|   5000|    Supported|Android v12| true| true|        true|          1000|       true|  6|128|\n",
      "|     Apple iPhone 14|789.11|    81|Dual Sim|          Bionic A15|   3279|Not Supported|    iOS v16| true| true|        true|             0|       true|  6|128|\n",
      "|Xiaomi Redmi Note...|358.68|    86|Dual Sim|      Dimensity 1080|   4980|Not Supported|Android v12| true|false|        true|             0|       true|  8|256|\n",
      "|     Nothing Phone 1|319.82|    85|Dual Sim|Snapdragon 778G Plus|   4500|            -|          -| true| true|        true|             0|      false|  8|128|\n",
      "|  OnePlus Nord 2T 5G|346.72|    84|Dual Sim|     Dimensity  1300|   4500|            -|          -| true| true|        true|             0|      false|  8|128|\n",
      "|       Realme 10 Pro|227.16|    82|Dual Sim|      Snapdragon 695|   5000|    Supported|Android v13| true|false|        true|          1000|       true|  6|128|\n",
      "|            Oppo A78|227.16|    79|Dual Sim|    Dimensity 700 5G|   5000|    Supported|Android v12| true| true|        true|             0|       true|  8|128|\n",
      "|Xiaomi Redmi Note...|296.06|    79|Dual Sim|      Dimensity 1080|   5000|            -|          -| true|false|        true|             0|      false|  6|128|\n",
      "|Vivo T1 5G (6GB R...|203.14|    80|Dual Sim|     Snapdragon  695|   5000|       Hybrid|Android v12| true|false|        true|          1000|       true|  6|128|\n",
      "|     Apple iPhone 13|753.24|    79|Dual Sim|          Bionic A15|   3240|Not Supported|    iOS v15| true| true|        true|             0|       true|  4|128|\n",
      "|            Vivo Y16|119.55|    65|Dual Sim|           Helio P35|   5000|    Supported|Android v12|false|false|        true|             0|       true|  3| 32|\n",
      "|OPPO Reno 9 Pro Plus|549.98|    86|Dual Sim|  Snapdragon 8+ Gen1|   4700|            -|          -| true| true|        true|             0|      false| 16|256|\n",
      "|      OnePlus 10R 5G|394.55|    86|Dual Sim|  Dimensity 8100 Max|   5000|            -|          -| true| true|        true|             0|      false|  8|128|\n",
      "|            Vivo Y22|173.36|    72|Dual Sim|           Helio G70|   5000|    Supported|Android v12|false|false|        true|          1000|       true|  4| 64|\n",
      "|         OnePlus 11R|478.24|    85|Dual Sim| Snapdragon  8+ Gen1|   5000|            -|          -| true| true|        true|             0|      false|  8|128|\n",
      "+--------------------+------+------+--------+--------------------+-------+-------------+-----------+-----+-----+------------+--------------+-----------+---+---+\n",
      "only showing top 20 rows\n",
      "\n"
     ]
    }
   ],
   "source": [
    "dr.show()"
   ]
  },
  {
   "cell_type": "markdown",
   "id": "4f11367c-f3e6-4646-b70b-9838637e2a67",
   "metadata": {},
   "source": [
    "### Exportamos el csv limpio"
   ]
  },
  {
   "cell_type": "code",
   "execution_count": 78,
   "id": "74536b9f-42a0-4a74-a5ae-d5920b809874",
   "metadata": {},
   "outputs": [],
   "source": [
    "# Definimos la ruta y el nombre del archivo CSV de salida\n",
    "ruta = r\"G:\\Mi unidad\\00-LICENCIATURA DE DATOS\\TERCER AÑO\\PROG PARA CIENCIA DE DATOS\\TPs\\TP3_LUNA_Gustavo\\nuevo.csv\"  \n",
    "\n",
    "# Guardamos el DataFrame en un archivo CSV\n",
    "dr.write.csv(ruta, header=True, mode=\"overwrite\")\n",
    "\n"
   ]
  },
  {
   "cell_type": "code",
   "execution_count": 79,
   "id": "7775b656-645d-4f4c-b9f1-afaf8a1ac0e8",
   "metadata": {},
   "outputs": [],
   "source": [
    "# Cerramos la sesion de Spark\n",
    "sc.stop()"
   ]
  }
 ],
 "metadata": {
  "kernelspec": {
   "display_name": "pyspark-env",
   "language": "python",
   "name": "pyspark-env"
  },
  "language_info": {
   "codemirror_mode": {
    "name": "ipython",
    "version": 3
   },
   "file_extension": ".py",
   "mimetype": "text/x-python",
   "name": "python",
   "nbconvert_exporter": "python",
   "pygments_lexer": "ipython3",
   "version": "3.11.5"
  }
 },
 "nbformat": 4,
 "nbformat_minor": 5
}
