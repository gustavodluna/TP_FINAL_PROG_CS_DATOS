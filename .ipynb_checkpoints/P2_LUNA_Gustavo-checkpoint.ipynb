{
 "cells": [
  {
   "cell_type": "markdown",
   "id": "ccbb6a00-a696-44b7-82f0-448587c25fdf",
   "metadata": {},
   "source": [
    "### Importamos los modulos"
   ]
  },
  {
   "cell_type": "code",
   "execution_count": 1,
   "id": "5ab4f206-09cf-4e0d-b25a-cc09547f72d2",
   "metadata": {},
   "outputs": [],
   "source": [
    "separador=\"=\"*120"
   ]
  },
  {
   "cell_type": "code",
   "execution_count": 2,
   "id": "a677f3ed-3f53-4bc4-93fe-8ac1661c3431",
   "metadata": {},
   "outputs": [
    {
     "data": {
      "text/plain": [
       "'C:\\\\Users\\\\guti_\\\\anaconda3\\\\envs\\\\pyspark-env\\\\Lib\\\\site-packages\\\\pyspark'"
      ]
     },
     "execution_count": 2,
     "metadata": {},
     "output_type": "execute_result"
    }
   ],
   "source": [
    "import findspark # Este módulo proporciona una función para localizar la instalación de Spark en el sistema.\n",
    "findspark.init() # Inicializa el entorno de Spark.\n",
    "findspark.find() # Devuelve la ruta al directorio de Spark. "
   ]
  },
  {
   "cell_type": "code",
   "execution_count": 3,
   "id": "50b3076a-0702-4a5d-a682-8ca8418d7c2e",
   "metadata": {},
   "outputs": [],
   "source": [
    "from pyspark.context import SparkContext\n",
    "from pyspark.sql.session import SparkSession\n",
    "sc=SparkContext.getOrCreate()\n",
    "spark=SparkSession(sc)"
   ]
  },
  {
   "cell_type": "code",
   "execution_count": 4,
   "id": "ca0cafe0-4e92-4be7-832e-54c0d60f7963",
   "metadata": {},
   "outputs": [
    {
     "data": {
      "text/html": [
       "\n",
       "        <div>\n",
       "            <p><b>SparkContext</b></p>\n",
       "\n",
       "            <p><a href=\"http://host.docker.internal:4040\">Spark UI</a></p>\n",
       "\n",
       "            <dl>\n",
       "              <dt>Version</dt>\n",
       "                <dd><code>v3.4.1</code></dd>\n",
       "              <dt>Master</dt>\n",
       "                <dd><code>local[*]</code></dd>\n",
       "              <dt>AppName</dt>\n",
       "                <dd><code>pyspark-shell</code></dd>\n",
       "            </dl>\n",
       "        </div>\n",
       "        "
      ],
      "text/plain": [
       "<SparkContext master=local[*] appName=pyspark-shell>"
      ]
     },
     "execution_count": 4,
     "metadata": {},
     "output_type": "execute_result"
    }
   ],
   "source": [
    "sc"
   ]
  },
  {
   "cell_type": "markdown",
   "id": "0d3cfdd0-877a-448f-9e0f-4f43d27eb6b0",
   "metadata": {},
   "source": [
    "### Setup"
   ]
  },
  {
   "cell_type": "code",
   "execution_count": 5,
   "id": "5075cdcd-b454-47ac-86a4-ead60bae4483",
   "metadata": {},
   "outputs": [],
   "source": [
    "# Ruta del archivo\n",
    "location=\"celulares_PySpark.csv\""
   ]
  },
  {
   "cell_type": "code",
   "execution_count": 6,
   "id": "9117899e-de0a-4d73-a254-7510478a1dbd",
   "metadata": {},
   "outputs": [],
   "source": [
    "# CSV options\n",
    "file_type = \"csv\" # Tipo de archivo\n",
    "infer_schema = \"true\" # Esta opción indica si se debe intentar inferir automáticamente el esquema de los datos.\n",
    "first_row_is_header = \"true\" # Indica si la primera fila del archivo CSV contiene encabezados.\n",
    "delimiter = \",\" # Especifica el delimitador utilizado en el archivo CSV."
   ]
  },
  {
   "cell_type": "markdown",
   "id": "264f9f0f-78d6-46e5-9204-19206ef7e8f8",
   "metadata": {},
   "source": [
    "### Generamos un DataFrame"
   ]
  },
  {
   "cell_type": "code",
   "execution_count": 7,
   "id": "20b30886-58c4-4ffb-a1e0-aacbb0e20f88",
   "metadata": {},
   "outputs": [],
   "source": [
    "from pyspark.sql.functions import col\n",
    "\n",
    "# Leer datos de un archivo CSV a un DataFrame\n",
    "# Las opciones aplicadas son para archivos CSV. Para otros tipos de archivos, estos serán ignorados.\n",
    "df = spark.read.format(file_type) \\\n",
    "  .option(\"inferSchema\", infer_schema) \\\n",
    "  .option(\"header\", first_row_is_header) \\\n",
    "  .option(\"sep\", delimiter) \\\n",
    "  .load(location)"
   ]
  },
  {
   "cell_type": "markdown",
   "id": "5620e468-9bcc-4f17-911a-e93bb156999a",
   "metadata": {},
   "source": [
    "### Generamos un RDD"
   ]
  },
  {
   "cell_type": "code",
   "execution_count": 8,
   "id": "81558f0b-3390-4750-a9a6-e4c72c74671d",
   "metadata": {},
   "outputs": [
    {
     "data": {
      "text/plain": [
       "celulares_PySpark.csv MapPartitionsRDD[11] at textFile at <unknown>:0"
      ]
     },
     "execution_count": 8,
     "metadata": {},
     "output_type": "execute_result"
    }
   ],
   "source": [
    "# Cargamos el RDD\n",
    "lines=sc.textFile(location)\n",
    "lines"
   ]
  },
  {
   "cell_type": "code",
   "execution_count": 9,
   "id": "2247c323-3575-4ed4-86ba-05886bcc222f",
   "metadata": {},
   "outputs": [
    {
     "data": {
      "text/plain": [
       "870"
      ]
     },
     "execution_count": 9,
     "metadata": {},
     "output_type": "execute_result"
    }
   ],
   "source": [
    "# Verificamos la cantidad de lineas que posee\n",
    "lines.count()"
   ]
  },
  {
   "cell_type": "code",
   "execution_count": 10,
   "id": "185b01b7-2c1b-491f-8b51-8ed400605e71",
   "metadata": {},
   "outputs": [
    {
     "data": {
      "text/plain": [
       "'modelo,precio,rating,sim,procesador,bateria,memoria,os,5G,NFC,carga_rapida,almacenamiento,Memory Card,ram,rom'"
      ]
     },
     "execution_count": 10,
     "metadata": {},
     "output_type": "execute_result"
    }
   ],
   "source": [
    "# Visualizamos la primera linea\n",
    "lines.first()"
   ]
  },
  {
   "cell_type": "markdown",
   "id": "9aa9eadf-e13e-43e2-9f21-6f88fa106f81",
   "metadata": {},
   "source": [
    "#### Transformación"
   ]
  },
  {
   "cell_type": "markdown",
   "id": "b2fb1768-a10f-4fd8-809b-572d3c117da0",
   "metadata": {},
   "source": [
    "Vamos a crear un nuevo RDD y le vamos a decir que esto es un remuestreo del 25 % de los casos que tenemos en el original sin reemplazo. "
   ]
  },
  {
   "cell_type": "code",
   "execution_count": 11,
   "id": "c70b657d-9f81-4618-adcd-06ccdfb7b612",
   "metadata": {},
   "outputs": [
    {
     "data": {
      "text/plain": [
       "PythonRDD[14] at RDD at PythonRDD.scala:53"
      ]
     },
     "execution_count": 11,
     "metadata": {},
     "output_type": "execute_result"
    }
   ],
   "source": [
    "# Muestrea el 25% de los elementos sin repeticiones\n",
    "lines2 = lines.sample(fraction=0.25, withReplacement=False)\n",
    "lines2"
   ]
  },
  {
   "cell_type": "code",
   "execution_count": 12,
   "id": "472f6a9d-8d1c-4666-b568-c8f8debb7255",
   "metadata": {},
   "outputs": [
    {
     "data": {
      "text/plain": [
       "190"
      ]
     },
     "execution_count": 12,
     "metadata": {},
     "output_type": "execute_result"
    }
   ],
   "source": [
    "# Verificamos la cantidad de lineas que posee\n",
    "lines2.count()"
   ]
  },
  {
   "cell_type": "code",
   "execution_count": 13,
   "id": "6bede6c3-8c49-48c7-b827-df277b489d2c",
   "metadata": {},
   "outputs": [
    {
     "data": {
      "text/plain": [
       "'OnePlus Nord CE 2 Lite 5G,239.0,81,Dual Sim,Snapdragon 695,5000,Hybrid,Android v12,true,false,true,1000,true,6,128'"
      ]
     },
     "execution_count": 13,
     "metadata": {},
     "output_type": "execute_result"
    }
   ],
   "source": [
    "# Visualizamos la primera linea\n",
    "lines2.first()"
   ]
  },
  {
   "cell_type": "markdown",
   "id": "4f11367c-f3e6-4646-b70b-9838637e2a67",
   "metadata": {},
   "source": [
    "#### Lambda"
   ]
  },
  {
   "cell_type": "markdown",
   "id": "76b90e8a-e136-4028-aa74-e25bfba0a082",
   "metadata": {},
   "source": [
    "Vamos a utilizar una función lambda para poder determinar la cantidad de lineas en donde aparece la palabra \"Android\" en el RDD"
   ]
  },
  {
   "cell_type": "code",
   "execution_count": 14,
   "id": "802ad7b2-a4c8-4f7c-8354-9eb606be2fcc",
   "metadata": {},
   "outputs": [],
   "source": [
    "resultado=lines.filter(lambda line: \"Android\" in line)"
   ]
  },
  {
   "cell_type": "code",
   "execution_count": 15,
   "id": "7940cb4c-2f98-4493-83ec-f263f02b1996",
   "metadata": {},
   "outputs": [
    {
     "data": {
      "text/plain": [
       "PythonRDD[17] at RDD at PythonRDD.scala:53"
      ]
     },
     "execution_count": 15,
     "metadata": {},
     "output_type": "execute_result"
    }
   ],
   "source": [
    "resultado"
   ]
  },
  {
   "cell_type": "raw",
   "id": "6f6886ac-dc5c-4be0-8856-8ebb150ef7c5",
   "metadata": {},
   "source": [
    "# Guardamos la transformaión\n",
    "resultado.persist()"
   ]
  },
  {
   "cell_type": "markdown",
   "id": "7c070b91-52bd-4660-93aa-79afefbffd68",
   "metadata": {},
   "source": [
    "##### Método con RDD"
   ]
  },
  {
   "cell_type": "code",
   "execution_count": 16,
   "id": "db10ab72-6f14-47c6-a67e-8214b6488350",
   "metadata": {},
   "outputs": [
    {
     "name": "stdout",
     "output_type": "stream",
     "text": [
      "========================================================================================================================\n",
      "La palabra 'Android' se repite en 642 lineas.\n",
      "========================================================================================================================\n"
     ]
    }
   ],
   "source": [
    "# Cantidad de veces que se repite la palabra \"Android\" en el RDD\n",
    "conteo_rdd=resultado.count()\n",
    "print(separador)\n",
    "# Mostrar el resultado\n",
    "print(f\"La palabra 'Android' se repite en {conteo_rdd} lineas.\")\n",
    "print(separador)"
   ]
  },
  {
   "cell_type": "code",
   "execution_count": 17,
   "id": "1b2ad452-f868-42cb-aecc-59e7e5deb926",
   "metadata": {},
   "outputs": [
    {
     "data": {
      "text/plain": [
       "['OnePlus 11 5G,657.59,89,Dual Sim,Snapdragon 8 Gen2,5000,Not Supported,Android v13,true,true,true,0,true,12,256',\n",
       " 'OnePlus Nord CE 2 Lite 5G,239.0,81,Dual Sim,Snapdragon 695,5000,Hybrid,Android v12,true,false,true,1000,true,6,128']"
      ]
     },
     "execution_count": 17,
     "metadata": {},
     "output_type": "execute_result"
    }
   ],
   "source": [
    "# Visualizamos las primeras dos filas en donde aparece la palabra 'Android'\n",
    "resultado.take(2)"
   ]
  },
  {
   "cell_type": "markdown",
   "id": "ed6dd961-68a8-49ff-99af-25b596a65130",
   "metadata": {},
   "source": [
    "##### Método con DataFrame"
   ]
  },
  {
   "cell_type": "code",
   "execution_count": 18,
   "id": "386cb7a7-57a4-4f32-9e3a-f3b1e969c9ee",
   "metadata": {},
   "outputs": [
    {
     "name": "stdout",
     "output_type": "stream",
     "text": [
      "========================================================================================================================\n",
      "La palabra 'Android' se repite 642 veces.\n",
      "========================================================================================================================\n"
     ]
    }
   ],
   "source": [
    "# Inicializar el contador\n",
    "conteo_total = 0\n",
    "\n",
    "# Iterar sobre todas las columnas del DataFrame\n",
    "for columna in df.columns:\n",
    "    # Contar las ocurrencias de la palabra \"Android\" en la columna actual\n",
    "    conteo_columna = df.filter(col(columna).contains(\"Android\")).count()\n",
    "    # Actualizar el contador total\n",
    "    conteo_total += conteo_columna\n",
    "print(separador)\n",
    "# Mostrar el resultado\n",
    "print(f\"La palabra 'Android' se repite {conteo_total} veces.\")\n",
    "print(separador)"
   ]
  },
  {
   "cell_type": "code",
   "execution_count": 19,
   "id": "8d2c9aed-f2d9-422d-b320-d0a2e7ae496f",
   "metadata": {},
   "outputs": [
    {
     "name": "stdout",
     "output_type": "stream",
     "text": [
      "========================================================================================================================\n",
      "Row(modelo='OnePlus 11 5G', precio=657.59, rating=89, sim='Dual Sim', procesador='Snapdragon 8 Gen2', bateria=5000, memoria='Not Supported', os='Android v13', 5G=True, NFC=True, carga_rapida=True, almacenamiento=0, Memory Card=True, ram=12, rom=256)\n",
      "Row(modelo='OnePlus Nord CE 2 Lite 5G', precio=239.0, rating=81, sim='Dual Sim', procesador='Snapdragon 695', bateria=5000, memoria='Hybrid', os='Android v12', 5G=True, NFC=False, carga_rapida=True, almacenamiento=1000, Memory Card=True, ram=6, rom=128)\n",
      "========================================================================================================================\n"
     ]
    }
   ],
   "source": [
    "# Visualizamos la primer fila en donde aparece la palabra 'Android'\n",
    "# Inicializar una lista para almacenar las filas que contienen la palabra \"Android\"\n",
    "filas_android = []\n",
    "\n",
    "# Iterar sobre todas las columnas del DataFrame\n",
    "for columna in df.columns:\n",
    "    # Filtrar las filas que contienen la palabra \"Android\" en la columna actual\n",
    "    filas_filtradas = df.filter(col(columna).contains(\"Android\")).head(2)  # Obtener las primeras dos filas\n",
    "    # Extender la lista de filas con las filas filtradas\n",
    "    filas_android.extend(filas_filtradas)\n",
    "                        \n",
    "print(separador)\n",
    "# Mostrar las filas obtenidas\n",
    "for fila in filas_android:\n",
    "    print(fila)\n",
    "print(separador)"
   ]
  },
  {
   "cell_type": "markdown",
   "id": "e6f5fd3b-d6f3-4c9f-9c63-bea0e5fecab9",
   "metadata": {},
   "source": [
    "#### Collect"
   ]
  },
  {
   "cell_type": "markdown",
   "id": "0aaccfb3-eea4-4823-b952-9d7b03f424db",
   "metadata": {},
   "source": [
    "Utilizamos collect para mostrar las lineas en donde aparece la palabra 'EMUI'"
   ]
  },
  {
   "cell_type": "code",
   "execution_count": 20,
   "id": "6038af9f-6eec-46e3-8840-2626f66f456b",
   "metadata": {},
   "outputs": [
    {
     "name": "stdout",
     "output_type": "stream",
     "text": [
      "========================================================================================================================\n",
      "Huawei Nova Y61,262.92,63,Dual Sim,Octa Core Processor,5000,Hybrid,EMUI v12,false,false,true,0,true,4,64\n",
      "Huawei Nova Y90,274.88,82,Dual Sim,Snapdragon  680,5000,Supported,EMUI v12,false,true,true,0,true,8,128\n",
      "========================================================================================================================\n"
     ]
    }
   ],
   "source": [
    "lineas_EMUI = lines.filter(lambda linea: \"EMUI\" in linea)\n",
    "print(separador)\n",
    "\n",
    "for linea in lineas_EMUI.collect():\n",
    "    print(linea)\n",
    "    \n",
    "print(separador)"
   ]
  },
  {
   "cell_type": "markdown",
   "id": "7f3f4dcb-f874-4621-9d7e-587f24ea3363",
   "metadata": {},
   "source": [
    "#### Distinct"
   ]
  },
  {
   "cell_type": "code",
   "execution_count": 21,
   "id": "c1b63d43-461c-4bed-96de-bb4dd035faa3",
   "metadata": {},
   "outputs": [
    {
     "data": {
      "text/plain": [
       "'modelo,precio,rating,sim,procesador,bateria,memoria,os,5G,NFC,carga_rapida,almacenamiento,Memory Card,ram,rom'"
      ]
     },
     "execution_count": 21,
     "metadata": {},
     "output_type": "execute_result"
    }
   ],
   "source": [
    "primer_fila = lines.first()\n",
    "primer_fila"
   ]
  },
  {
   "cell_type": "markdown",
   "id": "aaf12a6a-b6cb-4391-838c-1d58b6bcff87",
   "metadata": {},
   "source": [
    "Ahora vamos a filtrar la primer linea del RDD (es el nombre de las columnas del csv)"
   ]
  },
  {
   "cell_type": "code",
   "execution_count": 22,
   "id": "2f445031-8308-46d9-a876-74c94ae4cd4e",
   "metadata": {},
   "outputs": [
    {
     "data": {
      "text/plain": [
       "['modelo',\n",
       " 'precio',\n",
       " 'rating',\n",
       " 'sim',\n",
       " 'procesador',\n",
       " 'bateria',\n",
       " 'memoria',\n",
       " 'os',\n",
       " '5G',\n",
       " 'NFC',\n",
       " 'carga_rapida',\n",
       " 'almacenamiento',\n",
       " 'Memory Card',\n",
       " 'ram',\n",
       " 'rom']"
      ]
     },
     "execution_count": 22,
     "metadata": {},
     "output_type": "execute_result"
    }
   ],
   "source": [
    "# Separamos por coma\n",
    "campos_primera_fila = primer_fila.split(\",\")\n",
    "campos_primera_fila"
   ]
  },
  {
   "cell_type": "code",
   "execution_count": 23,
   "id": "cb52022e-7658-4768-af0b-4496a4df35e5",
   "metadata": {},
   "outputs": [
    {
     "data": {
      "text/plain": [
       "PythonRDD[187] at RDD at PythonRDD.scala:53"
      ]
     },
     "execution_count": 23,
     "metadata": {},
     "output_type": "execute_result"
    }
   ],
   "source": [
    "# Definir una función para filtrar la primera línea\n",
    "def filtrar_primera_linea(linea, primera_linea):\n",
    "    return linea != primera_linea\n",
    "\n",
    "# Ignorar la primera línea del RDD\n",
    "lines3 = lines.filter(lambda linea: filtrar_primera_linea(linea, primer_fila))\n",
    "lines3"
   ]
  },
  {
   "cell_type": "code",
   "execution_count": 24,
   "id": "0b73b6ff-8b35-4db2-9478-c07449b50a34",
   "metadata": {},
   "outputs": [
    {
     "data": {
      "text/plain": [
       "869"
      ]
     },
     "execution_count": 24,
     "metadata": {},
     "output_type": "execute_result"
    }
   ],
   "source": [
    "# Verificamos la cantidad de lineas que posee\n",
    "lines3.count()"
   ]
  },
  {
   "cell_type": "code",
   "execution_count": 25,
   "id": "b790b359-0613-45d0-85c0-ed366e2b69ac",
   "metadata": {},
   "outputs": [
    {
     "data": {
      "text/plain": [
       "PythonRDD[187] at RDD at PythonRDD.scala:53"
      ]
     },
     "execution_count": 25,
     "metadata": {},
     "output_type": "execute_result"
    }
   ],
   "source": [
    "# Guardamos la transformación\n",
    "lines3.persist()"
   ]
  },
  {
   "cell_type": "code",
   "execution_count": 26,
   "id": "ad79831d-0c40-4d3d-bfd7-b5ad55724a8a",
   "metadata": {},
   "outputs": [
    {
     "data": {
      "text/plain": [
       "['OnePlus 11 5G,657.59,89,Dual Sim,Snapdragon 8 Gen2,5000,Not Supported,Android v13,true,true,true,0,true,12,256',\n",
       " 'OnePlus Nord CE 2 Lite 5G,239.0,81,Dual Sim,Snapdragon 695,5000,Hybrid,Android v12,true,false,true,1000,true,6,128',\n",
       " 'Samsung Galaxy A14 5G,197.27,75,Dual Sim,Exynos 1330,5000,Supported,Android v13,true,false,true,1000,true,4,64',\n",
       " 'Motorola Moto G62 5G,179.33,81,Dual Sim,Snapdragon  695,5000,Hybrid,Android v12,true,false,true,1000,true,6,128',\n",
       " 'Realme 10 Pro Plus,298.9,82,Dual Sim,Dimensity 1080,5000,Not Supported,Android v13,true,false,true,0,true,6,128']"
      ]
     },
     "execution_count": 26,
     "metadata": {},
     "output_type": "execute_result"
    }
   ],
   "source": [
    "# Visualizamos las primeras 5 lineas del RDD filtrado\n",
    "lines3.take(5)"
   ]
  },
  {
   "cell_type": "code",
   "execution_count": 27,
   "id": "ba660c22-e1c5-4f7c-bd15-d7e2843d1f34",
   "metadata": {},
   "outputs": [
    {
     "data": {
      "text/plain": [
       "PythonRDD[190] at RDD at PythonRDD.scala:53"
      ]
     },
     "execution_count": 27,
     "metadata": {},
     "output_type": "execute_result"
    }
   ],
   "source": [
    "# Extraemos la información sobre la ram\n",
    "ram_rdd = lines3.map(lambda linea: linea.split(\",\")[13])\n",
    "ram_rdd"
   ]
  },
  {
   "cell_type": "code",
   "execution_count": 28,
   "id": "cede9aab-3dc2-4e76-9273-ea24d63e1047",
   "metadata": {},
   "outputs": [
    {
     "data": {
      "text/plain": [
       "['6', '4', '3', '16', '18', '12', '8', '2', '512']"
      ]
     },
     "execution_count": 28,
     "metadata": {},
     "output_type": "execute_result"
    }
   ],
   "source": [
    "# Aplicamos la funcion distinct() junto con collect() para poder visualizar los distintos tamaños de RAM\n",
    "ram_rdd.distinct().collect()"
   ]
  },
  {
   "cell_type": "markdown",
   "id": "abf2149f-06e7-4348-92a5-f23d064aa0f6",
   "metadata": {},
   "source": [
    "#### Función numérica con RDD"
   ]
  },
  {
   "cell_type": "code",
   "execution_count": 29,
   "id": "c013b6ef-c7fc-46b9-a3ad-0e9c8205f5a1",
   "metadata": {},
   "outputs": [
    {
     "data": {
      "text/plain": [
       "PythonRDD[196] at RDD at PythonRDD.scala:53"
      ]
     },
     "execution_count": 29,
     "metadata": {},
     "output_type": "execute_result"
    }
   ],
   "source": [
    "# Extraemos la información sobre los precios\n",
    "precios_rdd = lines3.map(lambda linea: float(linea.split(\",\")[1]))\n",
    "precios_rdd"
   ]
  },
  {
   "cell_type": "markdown",
   "id": "4187e4dc-29ac-4491-87db-93ad1a93cc56",
   "metadata": {},
   "source": [
    "##### Precio mínimo"
   ]
  },
  {
   "cell_type": "code",
   "execution_count": 30,
   "id": "312e7277-1f97-455a-aca5-9c39ccc5f894",
   "metadata": {},
   "outputs": [
    {
     "name": "stdout",
     "output_type": "stream",
     "text": [
      "========================================================================================================================\n",
      "El precio mínimo de los celulares es: 41.84 USD.\n",
      "========================================================================================================================\n"
     ]
    }
   ],
   "source": [
    "precio_min=round(precios_rdd.min(),2)\n",
    "print(separador)\n",
    "print(f\"El precio mínimo de los celulares es: {precio_min} USD.\")\n",
    "print(separador)"
   ]
  },
  {
   "cell_type": "markdown",
   "id": "3c620131-14ac-4542-8523-345b9d9c4513",
   "metadata": {},
   "source": [
    "##### Precio promedio"
   ]
  },
  {
   "cell_type": "code",
   "execution_count": 31,
   "id": "982e3cb8-77cb-422c-b4d3-bd502c1235a5",
   "metadata": {},
   "outputs": [
    {
     "name": "stdout",
     "output_type": "stream",
     "text": [
      "========================================================================================================================\n",
      "El precio promedio de los celulares es: 348.9 USD.\n",
      "========================================================================================================================\n"
     ]
    }
   ],
   "source": [
    "precio_prom=round(precios_rdd.mean(),2)\n",
    "print(separador)\n",
    "print(f\"El precio promedio de los celulares es: {precio_prom} USD.\")\n",
    "print(separador)"
   ]
  },
  {
   "cell_type": "markdown",
   "id": "45ee83f6-0761-4ae0-b258-36084d7dcd8e",
   "metadata": {},
   "source": [
    "##### Precio máximo"
   ]
  },
  {
   "cell_type": "code",
   "execution_count": 32,
   "id": "72a0b16f-30c0-483d-8a2e-093e6f237c32",
   "metadata": {},
   "outputs": [
    {
     "name": "stdout",
     "output_type": "stream",
     "text": [
      "========================================================================================================================\n",
      "El precio máximo de los celulares es: 7771.66 USD.\n",
      "========================================================================================================================\n"
     ]
    }
   ],
   "source": [
    "precio_max=round(precios_rdd.max(),2)\n",
    "print(separador)\n",
    "print(f\"El precio máximo de los celulares es: {precio_max} USD.\")\n",
    "print(separador)"
   ]
  },
  {
   "cell_type": "code",
   "execution_count": 33,
   "id": "7fff1c8c-9426-4f0f-b791-b11222fdc8ea",
   "metadata": {},
   "outputs": [],
   "source": [
    "# Cerramos la sesion de Spark\n",
    "sc.stop()"
   ]
  },
  {
   "cell_type": "code",
   "execution_count": null,
   "id": "91fde0e0-0fd9-4938-8387-90da40b045ce",
   "metadata": {},
   "outputs": [],
   "source": []
  }
 ],
 "metadata": {
  "kernelspec": {
   "display_name": "pyspark-env",
   "language": "python",
   "name": "pyspark-env"
  },
  "language_info": {
   "codemirror_mode": {
    "name": "ipython",
    "version": 3
   },
   "file_extension": ".py",
   "mimetype": "text/x-python",
   "name": "python",
   "nbconvert_exporter": "python",
   "pygments_lexer": "ipython3",
   "version": "3.11.5"
  }
 },
 "nbformat": 4,
 "nbformat_minor": 5
}
